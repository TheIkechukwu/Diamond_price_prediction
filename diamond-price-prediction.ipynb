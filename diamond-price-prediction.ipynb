{
 "cells": [
  {
   "cell_type": "markdown",
   "id": "a61173f9",
   "metadata": {
    "papermill": {
     "duration": 0.009605,
     "end_time": "2024-05-11T08:07:48.922108",
     "exception": false,
     "start_time": "2024-05-11T08:07:48.912503",
     "status": "completed"
    },
    "tags": []
   },
   "source": [
    "# Diamond price prediction \n",
    "\n",
    "Build a linear model that predicts the prices of diamonds based on their attributes"
   ]
  },
  {
   "cell_type": "code",
   "execution_count": 1,
   "id": "17200467",
   "metadata": {
    "_cell_guid": "b1076dfc-b9ad-4769-8c92-a6c4dae69d19",
    "_uuid": "8f2839f25d086af736a60e9eeb907d3b93b6e0e5",
    "execution": {
     "iopub.execute_input": "2024-05-11T08:07:48.944917Z",
     "iopub.status.busy": "2024-05-11T08:07:48.944078Z",
     "iopub.status.idle": "2024-05-11T08:07:54.278815Z",
     "shell.execute_reply": "2024-05-11T08:07:54.277426Z"
    },
    "papermill": {
     "duration": 5.348533,
     "end_time": "2024-05-11T08:07:54.281460",
     "exception": false,
     "start_time": "2024-05-11T08:07:48.932927",
     "status": "completed"
    },
    "tags": []
   },
   "outputs": [
    {
     "name": "stdout",
     "output_type": "stream",
     "text": [
      "/kaggle/input/diamond-dataset/diamonds.csv\n"
     ]
    }
   ],
   "source": [
    "#load the necessary libraries\n",
    "\n",
    "import numpy as np # linear algebra\n",
    "import pandas as pd # data processing, CSV file I/O (e.g. pd.read_csv)\n",
    "import matplotlib.pyplot as plt\n",
    "import seaborn as sns\n",
    "import scipy.stats as stats\n",
    "\n",
    "import statsmodels.api as sm\n",
    "from statsmodels.formula.api import ols\n",
    "\n",
    "from sklearn.model_selection import train_test_split, GridSearchCV\n",
    "from sklearn.preprocessing import StandardScaler\n",
    "from sklearn.linear_model import LinearRegression, Ridge\n",
    "from sklearn.metrics import mean_squared_error, r2_score\n",
    "\n",
    "import os\n",
    "for dirname, _, filenames in os.walk('/kaggle/input'):\n",
    "    for filename in filenames:\n",
    "        print(os.path.join(dirname, filename))"
   ]
  },
  {
   "cell_type": "code",
   "execution_count": 2,
   "id": "878cd5a4",
   "metadata": {
    "execution": {
     "iopub.execute_input": "2024-05-11T08:07:54.304004Z",
     "iopub.status.busy": "2024-05-11T08:07:54.303141Z",
     "iopub.status.idle": "2024-05-11T08:07:54.467674Z",
     "shell.execute_reply": "2024-05-11T08:07:54.466343Z"
    },
    "papermill": {
     "duration": 0.179935,
     "end_time": "2024-05-11T08:07:54.471471",
     "exception": false,
     "start_time": "2024-05-11T08:07:54.291536",
     "status": "completed"
    },
    "tags": []
   },
   "outputs": [
    {
     "data": {
      "text/html": [
       "<div>\n",
       "<style scoped>\n",
       "    .dataframe tbody tr th:only-of-type {\n",
       "        vertical-align: middle;\n",
       "    }\n",
       "\n",
       "    .dataframe tbody tr th {\n",
       "        vertical-align: top;\n",
       "    }\n",
       "\n",
       "    .dataframe thead th {\n",
       "        text-align: right;\n",
       "    }\n",
       "</style>\n",
       "<table border=\"1\" class=\"dataframe\">\n",
       "  <thead>\n",
       "    <tr style=\"text-align: right;\">\n",
       "      <th></th>\n",
       "      <th>Unnamed: 0</th>\n",
       "      <th>carat</th>\n",
       "      <th>cut</th>\n",
       "      <th>color</th>\n",
       "      <th>clarity</th>\n",
       "      <th>depth</th>\n",
       "      <th>table</th>\n",
       "      <th>price</th>\n",
       "      <th>x</th>\n",
       "      <th>y</th>\n",
       "      <th>z</th>\n",
       "    </tr>\n",
       "  </thead>\n",
       "  <tbody>\n",
       "    <tr>\n",
       "      <th>0</th>\n",
       "      <td>1</td>\n",
       "      <td>0.23</td>\n",
       "      <td>Ideal</td>\n",
       "      <td>E</td>\n",
       "      <td>SI2</td>\n",
       "      <td>61.5</td>\n",
       "      <td>55.0</td>\n",
       "      <td>326</td>\n",
       "      <td>3.95</td>\n",
       "      <td>3.98</td>\n",
       "      <td>2.43</td>\n",
       "    </tr>\n",
       "    <tr>\n",
       "      <th>1</th>\n",
       "      <td>2</td>\n",
       "      <td>0.21</td>\n",
       "      <td>Premium</td>\n",
       "      <td>E</td>\n",
       "      <td>SI1</td>\n",
       "      <td>59.8</td>\n",
       "      <td>61.0</td>\n",
       "      <td>326</td>\n",
       "      <td>3.89</td>\n",
       "      <td>3.84</td>\n",
       "      <td>2.31</td>\n",
       "    </tr>\n",
       "    <tr>\n",
       "      <th>2</th>\n",
       "      <td>3</td>\n",
       "      <td>0.23</td>\n",
       "      <td>Good</td>\n",
       "      <td>E</td>\n",
       "      <td>VS1</td>\n",
       "      <td>56.9</td>\n",
       "      <td>65.0</td>\n",
       "      <td>327</td>\n",
       "      <td>4.05</td>\n",
       "      <td>4.07</td>\n",
       "      <td>2.31</td>\n",
       "    </tr>\n",
       "    <tr>\n",
       "      <th>3</th>\n",
       "      <td>4</td>\n",
       "      <td>0.29</td>\n",
       "      <td>Premium</td>\n",
       "      <td>I</td>\n",
       "      <td>VS2</td>\n",
       "      <td>62.4</td>\n",
       "      <td>58.0</td>\n",
       "      <td>334</td>\n",
       "      <td>4.20</td>\n",
       "      <td>4.23</td>\n",
       "      <td>2.63</td>\n",
       "    </tr>\n",
       "    <tr>\n",
       "      <th>4</th>\n",
       "      <td>5</td>\n",
       "      <td>0.31</td>\n",
       "      <td>Good</td>\n",
       "      <td>J</td>\n",
       "      <td>SI2</td>\n",
       "      <td>63.3</td>\n",
       "      <td>58.0</td>\n",
       "      <td>335</td>\n",
       "      <td>4.34</td>\n",
       "      <td>4.35</td>\n",
       "      <td>2.75</td>\n",
       "    </tr>\n",
       "    <tr>\n",
       "      <th>...</th>\n",
       "      <td>...</td>\n",
       "      <td>...</td>\n",
       "      <td>...</td>\n",
       "      <td>...</td>\n",
       "      <td>...</td>\n",
       "      <td>...</td>\n",
       "      <td>...</td>\n",
       "      <td>...</td>\n",
       "      <td>...</td>\n",
       "      <td>...</td>\n",
       "      <td>...</td>\n",
       "    </tr>\n",
       "    <tr>\n",
       "      <th>53935</th>\n",
       "      <td>53936</td>\n",
       "      <td>0.72</td>\n",
       "      <td>Ideal</td>\n",
       "      <td>D</td>\n",
       "      <td>SI1</td>\n",
       "      <td>60.8</td>\n",
       "      <td>57.0</td>\n",
       "      <td>2757</td>\n",
       "      <td>5.75</td>\n",
       "      <td>5.76</td>\n",
       "      <td>3.50</td>\n",
       "    </tr>\n",
       "    <tr>\n",
       "      <th>53936</th>\n",
       "      <td>53937</td>\n",
       "      <td>0.72</td>\n",
       "      <td>Good</td>\n",
       "      <td>D</td>\n",
       "      <td>SI1</td>\n",
       "      <td>63.1</td>\n",
       "      <td>55.0</td>\n",
       "      <td>2757</td>\n",
       "      <td>5.69</td>\n",
       "      <td>5.75</td>\n",
       "      <td>3.61</td>\n",
       "    </tr>\n",
       "    <tr>\n",
       "      <th>53937</th>\n",
       "      <td>53938</td>\n",
       "      <td>0.70</td>\n",
       "      <td>Very Good</td>\n",
       "      <td>D</td>\n",
       "      <td>SI1</td>\n",
       "      <td>62.8</td>\n",
       "      <td>60.0</td>\n",
       "      <td>2757</td>\n",
       "      <td>5.66</td>\n",
       "      <td>5.68</td>\n",
       "      <td>3.56</td>\n",
       "    </tr>\n",
       "    <tr>\n",
       "      <th>53938</th>\n",
       "      <td>53939</td>\n",
       "      <td>0.86</td>\n",
       "      <td>Premium</td>\n",
       "      <td>H</td>\n",
       "      <td>SI2</td>\n",
       "      <td>61.0</td>\n",
       "      <td>58.0</td>\n",
       "      <td>2757</td>\n",
       "      <td>6.15</td>\n",
       "      <td>6.12</td>\n",
       "      <td>3.74</td>\n",
       "    </tr>\n",
       "    <tr>\n",
       "      <th>53939</th>\n",
       "      <td>53940</td>\n",
       "      <td>0.75</td>\n",
       "      <td>Ideal</td>\n",
       "      <td>D</td>\n",
       "      <td>SI2</td>\n",
       "      <td>62.2</td>\n",
       "      <td>55.0</td>\n",
       "      <td>2757</td>\n",
       "      <td>5.83</td>\n",
       "      <td>5.87</td>\n",
       "      <td>3.64</td>\n",
       "    </tr>\n",
       "  </tbody>\n",
       "</table>\n",
       "<p>53940 rows × 11 columns</p>\n",
       "</div>"
      ],
      "text/plain": [
       "       Unnamed: 0  carat        cut color clarity  depth  table  price     x  \\\n",
       "0               1   0.23      Ideal     E     SI2   61.5   55.0    326  3.95   \n",
       "1               2   0.21    Premium     E     SI1   59.8   61.0    326  3.89   \n",
       "2               3   0.23       Good     E     VS1   56.9   65.0    327  4.05   \n",
       "3               4   0.29    Premium     I     VS2   62.4   58.0    334  4.20   \n",
       "4               5   0.31       Good     J     SI2   63.3   58.0    335  4.34   \n",
       "...           ...    ...        ...   ...     ...    ...    ...    ...   ...   \n",
       "53935       53936   0.72      Ideal     D     SI1   60.8   57.0   2757  5.75   \n",
       "53936       53937   0.72       Good     D     SI1   63.1   55.0   2757  5.69   \n",
       "53937       53938   0.70  Very Good     D     SI1   62.8   60.0   2757  5.66   \n",
       "53938       53939   0.86    Premium     H     SI2   61.0   58.0   2757  6.15   \n",
       "53939       53940   0.75      Ideal     D     SI2   62.2   55.0   2757  5.83   \n",
       "\n",
       "          y     z  \n",
       "0      3.98  2.43  \n",
       "1      3.84  2.31  \n",
       "2      4.07  2.31  \n",
       "3      4.23  2.63  \n",
       "4      4.35  2.75  \n",
       "...     ...   ...  \n",
       "53935  5.76  3.50  \n",
       "53936  5.75  3.61  \n",
       "53937  5.68  3.56  \n",
       "53938  6.12  3.74  \n",
       "53939  5.87  3.64  \n",
       "\n",
       "[53940 rows x 11 columns]"
      ]
     },
     "execution_count": 2,
     "metadata": {},
     "output_type": "execute_result"
    }
   ],
   "source": [
    "#load the data\n",
    "\n",
    "df = pd.read_csv('/kaggle/input/diamond-dataset/diamonds.csv')\n",
    "df"
   ]
  },
  {
   "cell_type": "markdown",
   "id": "a115b436",
   "metadata": {
    "papermill": {
     "duration": 0.011566,
     "end_time": "2024-05-11T08:07:54.493211",
     "exception": false,
     "start_time": "2024-05-11T08:07:54.481645",
     "status": "completed"
    },
    "tags": []
   },
   "source": [
    "## Data Cleaning and validation \n",
    "* Check for missing values\n",
    "* Reaname columns into more meaningful names\n",
    "* Drop redundant or unnecessary columns "
   ]
  },
  {
   "cell_type": "code",
   "execution_count": 3,
   "id": "7fa3f5a5",
   "metadata": {
    "execution": {
     "iopub.execute_input": "2024-05-11T08:07:54.516695Z",
     "iopub.status.busy": "2024-05-11T08:07:54.515919Z",
     "iopub.status.idle": "2024-05-11T08:07:54.558408Z",
     "shell.execute_reply": "2024-05-11T08:07:54.557258Z"
    },
    "papermill": {
     "duration": 0.057449,
     "end_time": "2024-05-11T08:07:54.561555",
     "exception": false,
     "start_time": "2024-05-11T08:07:54.504106",
     "status": "completed"
    },
    "tags": []
   },
   "outputs": [
    {
     "name": "stdout",
     "output_type": "stream",
     "text": [
      "<class 'pandas.core.frame.DataFrame'>\n",
      "RangeIndex: 53940 entries, 0 to 53939\n",
      "Data columns (total 11 columns):\n",
      " #   Column      Non-Null Count  Dtype  \n",
      "---  ------      --------------  -----  \n",
      " 0   Unnamed: 0  53940 non-null  int64  \n",
      " 1   carat       53940 non-null  float64\n",
      " 2   cut         53940 non-null  object \n",
      " 3   color       53940 non-null  object \n",
      " 4   clarity     53940 non-null  object \n",
      " 5   depth       53940 non-null  float64\n",
      " 6   table       53940 non-null  float64\n",
      " 7   price       53940 non-null  int64  \n",
      " 8   x           53940 non-null  float64\n",
      " 9   y           53940 non-null  float64\n",
      " 10  z           53940 non-null  float64\n",
      "dtypes: float64(6), int64(2), object(3)\n",
      "memory usage: 4.5+ MB\n"
     ]
    }
   ],
   "source": [
    "df.info()"
   ]
  },
  {
   "cell_type": "code",
   "execution_count": 4,
   "id": "251deb24",
   "metadata": {
    "execution": {
     "iopub.execute_input": "2024-05-11T08:07:54.585858Z",
     "iopub.status.busy": "2024-05-11T08:07:54.584773Z",
     "iopub.status.idle": "2024-05-11T08:07:54.604650Z",
     "shell.execute_reply": "2024-05-11T08:07:54.603367Z"
    },
    "papermill": {
     "duration": 0.035498,
     "end_time": "2024-05-11T08:07:54.607570",
     "exception": false,
     "start_time": "2024-05-11T08:07:54.572072",
     "status": "completed"
    },
    "tags": []
   },
   "outputs": [
    {
     "data": {
      "text/plain": [
       "Unnamed: 0    0\n",
       "carat         0\n",
       "cut           0\n",
       "color         0\n",
       "clarity       0\n",
       "depth         0\n",
       "table         0\n",
       "price         0\n",
       "x             0\n",
       "y             0\n",
       "z             0\n",
       "dtype: int64"
      ]
     },
     "execution_count": 4,
     "metadata": {},
     "output_type": "execute_result"
    }
   ],
   "source": [
    "# check for missing values \n",
    "df.isna().sum()"
   ]
  },
  {
   "cell_type": "markdown",
   "id": "4dc02bc6",
   "metadata": {
    "papermill": {
     "duration": 0.010169,
     "end_time": "2024-05-11T08:07:54.628559",
     "exception": false,
     "start_time": "2024-05-11T08:07:54.618390",
     "status": "completed"
    },
    "tags": []
   },
   "source": [
    "The dataset have 53,940 observations and 11 features, with no missing values"
   ]
  },
  {
   "cell_type": "code",
   "execution_count": 5,
   "id": "eed4dc0c",
   "metadata": {
    "execution": {
     "iopub.execute_input": "2024-05-11T08:07:54.651755Z",
     "iopub.status.busy": "2024-05-11T08:07:54.651287Z",
     "iopub.status.idle": "2024-05-11T08:07:54.685257Z",
     "shell.execute_reply": "2024-05-11T08:07:54.683899Z"
    },
    "papermill": {
     "duration": 0.048892,
     "end_time": "2024-05-11T08:07:54.688171",
     "exception": false,
     "start_time": "2024-05-11T08:07:54.639279",
     "status": "completed"
    },
    "tags": []
   },
   "outputs": [],
   "source": [
    "#drop duplicate values\n",
    "df.drop_duplicates(inplace = True)"
   ]
  },
  {
   "cell_type": "code",
   "execution_count": 6,
   "id": "ec2db28c",
   "metadata": {
    "execution": {
     "iopub.execute_input": "2024-05-11T08:07:54.711414Z",
     "iopub.status.busy": "2024-05-11T08:07:54.710786Z",
     "iopub.status.idle": "2024-05-11T08:07:54.739897Z",
     "shell.execute_reply": "2024-05-11T08:07:54.738372Z"
    },
    "papermill": {
     "duration": 0.04345,
     "end_time": "2024-05-11T08:07:54.742387",
     "exception": false,
     "start_time": "2024-05-11T08:07:54.698937",
     "status": "completed"
    },
    "tags": []
   },
   "outputs": [
    {
     "data": {
      "text/html": [
       "<div>\n",
       "<style scoped>\n",
       "    .dataframe tbody tr th:only-of-type {\n",
       "        vertical-align: middle;\n",
       "    }\n",
       "\n",
       "    .dataframe tbody tr th {\n",
       "        vertical-align: top;\n",
       "    }\n",
       "\n",
       "    .dataframe thead th {\n",
       "        text-align: right;\n",
       "    }\n",
       "</style>\n",
       "<table border=\"1\" class=\"dataframe\">\n",
       "  <thead>\n",
       "    <tr style=\"text-align: right;\">\n",
       "      <th></th>\n",
       "      <th>carat</th>\n",
       "      <th>cut</th>\n",
       "      <th>color</th>\n",
       "      <th>clarity</th>\n",
       "      <th>total_depth</th>\n",
       "      <th>table</th>\n",
       "      <th>price</th>\n",
       "      <th>length</th>\n",
       "      <th>width</th>\n",
       "      <th>depth</th>\n",
       "    </tr>\n",
       "  </thead>\n",
       "  <tbody>\n",
       "    <tr>\n",
       "      <th>0</th>\n",
       "      <td>0.23</td>\n",
       "      <td>Ideal</td>\n",
       "      <td>E</td>\n",
       "      <td>SI2</td>\n",
       "      <td>61.5</td>\n",
       "      <td>55.0</td>\n",
       "      <td>326</td>\n",
       "      <td>3.95</td>\n",
       "      <td>3.98</td>\n",
       "      <td>2.43</td>\n",
       "    </tr>\n",
       "    <tr>\n",
       "      <th>1</th>\n",
       "      <td>0.21</td>\n",
       "      <td>Premium</td>\n",
       "      <td>E</td>\n",
       "      <td>SI1</td>\n",
       "      <td>59.8</td>\n",
       "      <td>61.0</td>\n",
       "      <td>326</td>\n",
       "      <td>3.89</td>\n",
       "      <td>3.84</td>\n",
       "      <td>2.31</td>\n",
       "    </tr>\n",
       "    <tr>\n",
       "      <th>2</th>\n",
       "      <td>0.23</td>\n",
       "      <td>Good</td>\n",
       "      <td>E</td>\n",
       "      <td>VS1</td>\n",
       "      <td>56.9</td>\n",
       "      <td>65.0</td>\n",
       "      <td>327</td>\n",
       "      <td>4.05</td>\n",
       "      <td>4.07</td>\n",
       "      <td>2.31</td>\n",
       "    </tr>\n",
       "    <tr>\n",
       "      <th>3</th>\n",
       "      <td>0.29</td>\n",
       "      <td>Premium</td>\n",
       "      <td>I</td>\n",
       "      <td>VS2</td>\n",
       "      <td>62.4</td>\n",
       "      <td>58.0</td>\n",
       "      <td>334</td>\n",
       "      <td>4.20</td>\n",
       "      <td>4.23</td>\n",
       "      <td>2.63</td>\n",
       "    </tr>\n",
       "    <tr>\n",
       "      <th>4</th>\n",
       "      <td>0.31</td>\n",
       "      <td>Good</td>\n",
       "      <td>J</td>\n",
       "      <td>SI2</td>\n",
       "      <td>63.3</td>\n",
       "      <td>58.0</td>\n",
       "      <td>335</td>\n",
       "      <td>4.34</td>\n",
       "      <td>4.35</td>\n",
       "      <td>2.75</td>\n",
       "    </tr>\n",
       "    <tr>\n",
       "      <th>...</th>\n",
       "      <td>...</td>\n",
       "      <td>...</td>\n",
       "      <td>...</td>\n",
       "      <td>...</td>\n",
       "      <td>...</td>\n",
       "      <td>...</td>\n",
       "      <td>...</td>\n",
       "      <td>...</td>\n",
       "      <td>...</td>\n",
       "      <td>...</td>\n",
       "    </tr>\n",
       "    <tr>\n",
       "      <th>53935</th>\n",
       "      <td>0.72</td>\n",
       "      <td>Ideal</td>\n",
       "      <td>D</td>\n",
       "      <td>SI1</td>\n",
       "      <td>60.8</td>\n",
       "      <td>57.0</td>\n",
       "      <td>2757</td>\n",
       "      <td>5.75</td>\n",
       "      <td>5.76</td>\n",
       "      <td>3.50</td>\n",
       "    </tr>\n",
       "    <tr>\n",
       "      <th>53936</th>\n",
       "      <td>0.72</td>\n",
       "      <td>Good</td>\n",
       "      <td>D</td>\n",
       "      <td>SI1</td>\n",
       "      <td>63.1</td>\n",
       "      <td>55.0</td>\n",
       "      <td>2757</td>\n",
       "      <td>5.69</td>\n",
       "      <td>5.75</td>\n",
       "      <td>3.61</td>\n",
       "    </tr>\n",
       "    <tr>\n",
       "      <th>53937</th>\n",
       "      <td>0.70</td>\n",
       "      <td>Very Good</td>\n",
       "      <td>D</td>\n",
       "      <td>SI1</td>\n",
       "      <td>62.8</td>\n",
       "      <td>60.0</td>\n",
       "      <td>2757</td>\n",
       "      <td>5.66</td>\n",
       "      <td>5.68</td>\n",
       "      <td>3.56</td>\n",
       "    </tr>\n",
       "    <tr>\n",
       "      <th>53938</th>\n",
       "      <td>0.86</td>\n",
       "      <td>Premium</td>\n",
       "      <td>H</td>\n",
       "      <td>SI2</td>\n",
       "      <td>61.0</td>\n",
       "      <td>58.0</td>\n",
       "      <td>2757</td>\n",
       "      <td>6.15</td>\n",
       "      <td>6.12</td>\n",
       "      <td>3.74</td>\n",
       "    </tr>\n",
       "    <tr>\n",
       "      <th>53939</th>\n",
       "      <td>0.75</td>\n",
       "      <td>Ideal</td>\n",
       "      <td>D</td>\n",
       "      <td>SI2</td>\n",
       "      <td>62.2</td>\n",
       "      <td>55.0</td>\n",
       "      <td>2757</td>\n",
       "      <td>5.83</td>\n",
       "      <td>5.87</td>\n",
       "      <td>3.64</td>\n",
       "    </tr>\n",
       "  </tbody>\n",
       "</table>\n",
       "<p>53940 rows × 10 columns</p>\n",
       "</div>"
      ],
      "text/plain": [
       "       carat        cut color clarity  total_depth  table  price  length  \\\n",
       "0       0.23      Ideal     E     SI2         61.5   55.0    326    3.95   \n",
       "1       0.21    Premium     E     SI1         59.8   61.0    326    3.89   \n",
       "2       0.23       Good     E     VS1         56.9   65.0    327    4.05   \n",
       "3       0.29    Premium     I     VS2         62.4   58.0    334    4.20   \n",
       "4       0.31       Good     J     SI2         63.3   58.0    335    4.34   \n",
       "...      ...        ...   ...     ...          ...    ...    ...     ...   \n",
       "53935   0.72      Ideal     D     SI1         60.8   57.0   2757    5.75   \n",
       "53936   0.72       Good     D     SI1         63.1   55.0   2757    5.69   \n",
       "53937   0.70  Very Good     D     SI1         62.8   60.0   2757    5.66   \n",
       "53938   0.86    Premium     H     SI2         61.0   58.0   2757    6.15   \n",
       "53939   0.75      Ideal     D     SI2         62.2   55.0   2757    5.83   \n",
       "\n",
       "       width  depth  \n",
       "0       3.98   2.43  \n",
       "1       3.84   2.31  \n",
       "2       4.07   2.31  \n",
       "3       4.23   2.63  \n",
       "4       4.35   2.75  \n",
       "...      ...    ...  \n",
       "53935   5.76   3.50  \n",
       "53936   5.75   3.61  \n",
       "53937   5.68   3.56  \n",
       "53938   6.12   3.74  \n",
       "53939   5.87   3.64  \n",
       "\n",
       "[53940 rows x 10 columns]"
      ]
     },
     "execution_count": 6,
     "metadata": {},
     "output_type": "execute_result"
    }
   ],
   "source": [
    "#drop the unnamed column\n",
    "df.drop('Unnamed: 0', axis = 1, inplace = True)\n",
    "\n",
    "#rename columns into a more meaningful names\n",
    "colnames = {'x': 'length', \n",
    "           'y': 'width',\n",
    "           'z': 'depth',\n",
    "           'depth': 'total_depth'}\n",
    "df.rename(columns = colnames, inplace = True)\n",
    "df"
   ]
  },
  {
   "cell_type": "markdown",
   "id": "d40a0544",
   "metadata": {
    "papermill": {
     "duration": 0.010585,
     "end_time": "2024-05-11T08:07:54.763380",
     "exception": false,
     "start_time": "2024-05-11T08:07:54.752795",
     "status": "completed"
    },
    "tags": []
   },
   "source": [
    "## Exploratory analysis"
   ]
  },
  {
   "cell_type": "code",
   "execution_count": 7,
   "id": "c231f3f8",
   "metadata": {
    "execution": {
     "iopub.execute_input": "2024-05-11T08:07:54.786971Z",
     "iopub.status.busy": "2024-05-11T08:07:54.786546Z",
     "iopub.status.idle": "2024-05-11T08:07:54.835808Z",
     "shell.execute_reply": "2024-05-11T08:07:54.834443Z"
    },
    "papermill": {
     "duration": 0.064327,
     "end_time": "2024-05-11T08:07:54.838391",
     "exception": false,
     "start_time": "2024-05-11T08:07:54.774064",
     "status": "completed"
    },
    "tags": []
   },
   "outputs": [
    {
     "data": {
      "text/html": [
       "<div>\n",
       "<style scoped>\n",
       "    .dataframe tbody tr th:only-of-type {\n",
       "        vertical-align: middle;\n",
       "    }\n",
       "\n",
       "    .dataframe tbody tr th {\n",
       "        vertical-align: top;\n",
       "    }\n",
       "\n",
       "    .dataframe thead th {\n",
       "        text-align: right;\n",
       "    }\n",
       "</style>\n",
       "<table border=\"1\" class=\"dataframe\">\n",
       "  <thead>\n",
       "    <tr style=\"text-align: right;\">\n",
       "      <th></th>\n",
       "      <th>carat</th>\n",
       "      <th>total_depth</th>\n",
       "      <th>table</th>\n",
       "      <th>price</th>\n",
       "      <th>length</th>\n",
       "      <th>width</th>\n",
       "      <th>depth</th>\n",
       "    </tr>\n",
       "  </thead>\n",
       "  <tbody>\n",
       "    <tr>\n",
       "      <th>count</th>\n",
       "      <td>53940.000000</td>\n",
       "      <td>53940.000000</td>\n",
       "      <td>53940.000000</td>\n",
       "      <td>53940.000000</td>\n",
       "      <td>53940.000000</td>\n",
       "      <td>53940.000000</td>\n",
       "      <td>53940.000000</td>\n",
       "    </tr>\n",
       "    <tr>\n",
       "      <th>mean</th>\n",
       "      <td>0.797940</td>\n",
       "      <td>61.749405</td>\n",
       "      <td>57.457184</td>\n",
       "      <td>3932.799722</td>\n",
       "      <td>5.731157</td>\n",
       "      <td>5.734526</td>\n",
       "      <td>3.538734</td>\n",
       "    </tr>\n",
       "    <tr>\n",
       "      <th>std</th>\n",
       "      <td>0.474011</td>\n",
       "      <td>1.432621</td>\n",
       "      <td>2.234491</td>\n",
       "      <td>3989.439738</td>\n",
       "      <td>1.121761</td>\n",
       "      <td>1.142135</td>\n",
       "      <td>0.705699</td>\n",
       "    </tr>\n",
       "    <tr>\n",
       "      <th>min</th>\n",
       "      <td>0.200000</td>\n",
       "      <td>43.000000</td>\n",
       "      <td>43.000000</td>\n",
       "      <td>326.000000</td>\n",
       "      <td>0.000000</td>\n",
       "      <td>0.000000</td>\n",
       "      <td>0.000000</td>\n",
       "    </tr>\n",
       "    <tr>\n",
       "      <th>25%</th>\n",
       "      <td>0.400000</td>\n",
       "      <td>61.000000</td>\n",
       "      <td>56.000000</td>\n",
       "      <td>950.000000</td>\n",
       "      <td>4.710000</td>\n",
       "      <td>4.720000</td>\n",
       "      <td>2.910000</td>\n",
       "    </tr>\n",
       "    <tr>\n",
       "      <th>50%</th>\n",
       "      <td>0.700000</td>\n",
       "      <td>61.800000</td>\n",
       "      <td>57.000000</td>\n",
       "      <td>2401.000000</td>\n",
       "      <td>5.700000</td>\n",
       "      <td>5.710000</td>\n",
       "      <td>3.530000</td>\n",
       "    </tr>\n",
       "    <tr>\n",
       "      <th>75%</th>\n",
       "      <td>1.040000</td>\n",
       "      <td>62.500000</td>\n",
       "      <td>59.000000</td>\n",
       "      <td>5324.250000</td>\n",
       "      <td>6.540000</td>\n",
       "      <td>6.540000</td>\n",
       "      <td>4.040000</td>\n",
       "    </tr>\n",
       "    <tr>\n",
       "      <th>max</th>\n",
       "      <td>5.010000</td>\n",
       "      <td>79.000000</td>\n",
       "      <td>95.000000</td>\n",
       "      <td>18823.000000</td>\n",
       "      <td>10.740000</td>\n",
       "      <td>58.900000</td>\n",
       "      <td>31.800000</td>\n",
       "    </tr>\n",
       "  </tbody>\n",
       "</table>\n",
       "</div>"
      ],
      "text/plain": [
       "              carat   total_depth         table         price        length  \\\n",
       "count  53940.000000  53940.000000  53940.000000  53940.000000  53940.000000   \n",
       "mean       0.797940     61.749405     57.457184   3932.799722      5.731157   \n",
       "std        0.474011      1.432621      2.234491   3989.439738      1.121761   \n",
       "min        0.200000     43.000000     43.000000    326.000000      0.000000   \n",
       "25%        0.400000     61.000000     56.000000    950.000000      4.710000   \n",
       "50%        0.700000     61.800000     57.000000   2401.000000      5.700000   \n",
       "75%        1.040000     62.500000     59.000000   5324.250000      6.540000   \n",
       "max        5.010000     79.000000     95.000000  18823.000000     10.740000   \n",
       "\n",
       "              width         depth  \n",
       "count  53940.000000  53940.000000  \n",
       "mean       5.734526      3.538734  \n",
       "std        1.142135      0.705699  \n",
       "min        0.000000      0.000000  \n",
       "25%        4.720000      2.910000  \n",
       "50%        5.710000      3.530000  \n",
       "75%        6.540000      4.040000  \n",
       "max       58.900000     31.800000  "
      ]
     },
     "execution_count": 7,
     "metadata": {},
     "output_type": "execute_result"
    }
   ],
   "source": [
    "# Summary statistic of the data\n",
    "df.describe()"
   ]
  },
  {
   "cell_type": "code",
   "execution_count": 8,
   "id": "608613fc",
   "metadata": {
    "execution": {
     "iopub.execute_input": "2024-05-11T08:07:54.862805Z",
     "iopub.status.busy": "2024-05-11T08:07:54.862370Z",
     "iopub.status.idle": "2024-05-11T08:07:55.170961Z",
     "shell.execute_reply": "2024-05-11T08:07:55.169997Z"
    },
    "papermill": {
     "duration": 0.323847,
     "end_time": "2024-05-11T08:07:55.173134",
     "exception": false,
     "start_time": "2024-05-11T08:07:54.849287",
     "status": "completed"
    },
    "tags": []
   },
   "outputs": [
    {
     "data": {
      "text/html": [
       "<div>\n",
       "<style scoped>\n",
       "    .dataframe tbody tr th:only-of-type {\n",
       "        vertical-align: middle;\n",
       "    }\n",
       "\n",
       "    .dataframe tbody tr th {\n",
       "        vertical-align: top;\n",
       "    }\n",
       "\n",
       "    .dataframe thead th {\n",
       "        text-align: right;\n",
       "    }\n",
       "</style>\n",
       "<table border=\"1\" class=\"dataframe\">\n",
       "  <thead>\n",
       "    <tr style=\"text-align: right;\">\n",
       "      <th></th>\n",
       "      <th>count</th>\n",
       "    </tr>\n",
       "    <tr>\n",
       "      <th>cut</th>\n",
       "      <th></th>\n",
       "    </tr>\n",
       "  </thead>\n",
       "  <tbody>\n",
       "    <tr>\n",
       "      <th>Ideal</th>\n",
       "      <td>21551</td>\n",
       "    </tr>\n",
       "    <tr>\n",
       "      <th>Premium</th>\n",
       "      <td>13791</td>\n",
       "    </tr>\n",
       "    <tr>\n",
       "      <th>Very Good</th>\n",
       "      <td>12082</td>\n",
       "    </tr>\n",
       "    <tr>\n",
       "      <th>Good</th>\n",
       "      <td>4906</td>\n",
       "    </tr>\n",
       "    <tr>\n",
       "      <th>Fair</th>\n",
       "      <td>1610</td>\n",
       "    </tr>\n",
       "  </tbody>\n",
       "</table>\n",
       "</div>"
      ],
      "text/plain": [
       "           count\n",
       "cut             \n",
       "Ideal      21551\n",
       "Premium    13791\n",
       "Very Good  12082\n",
       "Good        4906\n",
       "Fair        1610"
      ]
     },
     "metadata": {},
     "output_type": "display_data"
    },
    {
     "data": {
      "image/png": "[encoded data removed]",
      "text/plain": [
       "<Figure size 640x480 with 1 Axes>"
      ]
     },
     "metadata": {},
     "output_type": "display_data"
    }
   ],
   "source": [
    "display(pd.DataFrame(df['cut'].value_counts()))\n",
    "\n",
    "sns.countplot(x = df['cut'])\n",
    "plt.title('Number of diamonds based on the cut')\n",
    "plt.xlabel('Cut')\n",
    "plt.show()"
   ]
  },
  {
   "cell_type": "markdown",
   "id": "e478af0f",
   "metadata": {
    "papermill": {
     "duration": 0.010558,
     "end_time": "2024-05-11T08:07:55.194831",
     "exception": false,
     "start_time": "2024-05-11T08:07:55.184273",
     "status": "completed"
    },
    "tags": []
   },
   "source": [
    "From the table and visualization above, the dataset have more diamonds of Ideal cut, with 21,551 observations being ideal, followed by Premium and Very good, with Fair cut being the category with the least amount of diamonds."
   ]
  },
  {
   "cell_type": "code",
   "execution_count": 9,
   "id": "072a88d4",
   "metadata": {
    "execution": {
     "iopub.execute_input": "2024-05-11T08:07:55.218412Z",
     "iopub.status.busy": "2024-05-11T08:07:55.218038Z",
     "iopub.status.idle": "2024-05-11T08:07:55.983116Z",
     "shell.execute_reply": "2024-05-11T08:07:55.981752Z"
    },
    "papermill": {
     "duration": 0.780686,
     "end_time": "2024-05-11T08:07:55.986470",
     "exception": false,
     "start_time": "2024-05-11T08:07:55.205784",
     "status": "completed"
    },
    "tags": []
   },
   "outputs": [
    {
     "data": {
      "text/html": [
       "<div>\n",
       "<style scoped>\n",
       "    .dataframe tbody tr th:only-of-type {\n",
       "        vertical-align: middle;\n",
       "    }\n",
       "\n",
       "    .dataframe tbody tr th {\n",
       "        vertical-align: top;\n",
       "    }\n",
       "\n",
       "    .dataframe thead th {\n",
       "        text-align: right;\n",
       "    }\n",
       "</style>\n",
       "<table border=\"1\" class=\"dataframe\">\n",
       "  <thead>\n",
       "    <tr style=\"text-align: right;\">\n",
       "      <th></th>\n",
       "      <th>price</th>\n",
       "    </tr>\n",
       "    <tr>\n",
       "      <th>cut</th>\n",
       "      <th></th>\n",
       "    </tr>\n",
       "  </thead>\n",
       "  <tbody>\n",
       "    <tr>\n",
       "      <th>Fair</th>\n",
       "      <td>4358.757764</td>\n",
       "    </tr>\n",
       "    <tr>\n",
       "      <th>Good</th>\n",
       "      <td>3928.864452</td>\n",
       "    </tr>\n",
       "    <tr>\n",
       "      <th>Ideal</th>\n",
       "      <td>3457.541970</td>\n",
       "    </tr>\n",
       "    <tr>\n",
       "      <th>Premium</th>\n",
       "      <td>4584.257704</td>\n",
       "    </tr>\n",
       "    <tr>\n",
       "      <th>Very Good</th>\n",
       "      <td>3981.759891</td>\n",
       "    </tr>\n",
       "  </tbody>\n",
       "</table>\n",
       "</div>"
      ],
      "text/plain": [
       "                 price\n",
       "cut                   \n",
       "Fair       4358.757764\n",
       "Good       3928.864452\n",
       "Ideal      3457.541970\n",
       "Premium    4584.257704\n",
       "Very Good  3981.759891"
      ]
     },
     "metadata": {},
     "output_type": "display_data"
    },
    {
     "data": {
      "image/png": "[encoded data removed]",
      "text/plain": [
       "<Figure size 640x480 with 1 Axes>"
      ]
     },
     "metadata": {},
     "output_type": "display_data"
    }
   ],
   "source": [
    "display(pd.DataFrame(df.groupby('cut')['price'].mean()))\n",
    "\n",
    "# The average price of diamonds based on their cut\n",
    "sns.barplot(x = df['cut'], y = df['price'])\n",
    "plt.title('The average price of diamonds based on their cut')\n",
    "plt.show()"
   ]
  },
  {
   "cell_type": "markdown",
   "id": "b4341000",
   "metadata": {
    "papermill": {
     "duration": 0.011551,
     "end_time": "2024-05-11T08:07:56.010878",
     "exception": false,
     "start_time": "2024-05-11T08:07:55.999327",
     "status": "completed"
    },
    "tags": []
   },
   "source": [
    "There is significant difference in the average price of diamonds based on their cut, with ideal having the least average price which is counter intuitive as you would normally expect diamonds with an ideal cut to cost averagely more than diamonds with fair cut.\n",
    "\n",
    "To confirm there's a statiscally significant difference between the average prices of the categories as the graph suggested, I performed an Anova test on the groups "
   ]
  },
  {
   "cell_type": "code",
   "execution_count": 10,
   "id": "29380e99",
   "metadata": {
    "execution": {
     "iopub.execute_input": "2024-05-11T08:07:56.036749Z",
     "iopub.status.busy": "2024-05-11T08:07:56.036310Z",
     "iopub.status.idle": "2024-05-11T08:07:56.080927Z",
     "shell.execute_reply": "2024-05-11T08:07:56.079513Z"
    },
    "papermill": {
     "duration": 0.061832,
     "end_time": "2024-05-11T08:07:56.084694",
     "exception": false,
     "start_time": "2024-05-11T08:07:56.022862",
     "status": "completed"
    },
    "tags": []
   },
   "outputs": [
    {
     "name": "stdout",
     "output_type": "stream",
     "text": [
      "F-statistic: 175.68871735080606\n",
      "p-value: 8.42830730759452e-150\n"
     ]
    }
   ],
   "source": [
    "# To confirm if there's significant difference in the mean price of diamonds based on cut\n",
    "\n",
    "ideal_cut = np.array(df[df['cut'] == 'Ideal']['price'])\n",
    "premium_cut = np.array(df[df['cut'] == 'Premium']['price'])\n",
    "good_cut = np.array(df[df['cut'] == 'Good']['price'])\n",
    "very_good_cut = np.array(df[df['cut'] == 'Very Good']['price'])\n",
    "fair_cut = np.array(df[df['cut'] == 'Fair']['price'])\n",
    "\n",
    "# Perform one-way ANOVA\n",
    "f_statistic, p_value = stats.f_oneway(ideal_cut, premium_cut, good_cut, very_good_cut, fair_cut)\n",
    "\n",
    "# Print the results\n",
    "print(\"F-statistic:\", f_statistic)\n",
    "print(\"p-value:\", p_value)\n",
    "\n",
    "# With p-value of 8.43e-150, we can reject the null hypothesis and infer there's significant difference in the \n",
    "# mean price of diamonds across the cuts "
   ]
  },
  {
   "cell_type": "markdown",
   "id": "b9e894ab",
   "metadata": {
    "papermill": {
     "duration": 0.011469,
     "end_time": "2024-05-11T08:07:56.107951",
     "exception": false,
     "start_time": "2024-05-11T08:07:56.096482",
     "status": "completed"
    },
    "tags": []
   },
   "source": [
    "With p-value of 8.43e-150, we can reject the null hypothesis and infer there's significant difference in the mean price of diamonds across the cuts."
   ]
  },
  {
   "cell_type": "code",
   "execution_count": 11,
   "id": "8a1f3f2a",
   "metadata": {
    "execution": {
     "iopub.execute_input": "2024-05-11T08:07:56.134294Z",
     "iopub.status.busy": "2024-05-11T08:07:56.133899Z",
     "iopub.status.idle": "2024-05-11T08:07:56.446306Z",
     "shell.execute_reply": "2024-05-11T08:07:56.444855Z"
    },
    "papermill": {
     "duration": 0.328886,
     "end_time": "2024-05-11T08:07:56.448897",
     "exception": false,
     "start_time": "2024-05-11T08:07:56.120011",
     "status": "completed"
    },
    "tags": []
   },
   "outputs": [
    {
     "data": {
      "text/html": [
       "<div>\n",
       "<style scoped>\n",
       "    .dataframe tbody tr th:only-of-type {\n",
       "        vertical-align: middle;\n",
       "    }\n",
       "\n",
       "    .dataframe tbody tr th {\n",
       "        vertical-align: top;\n",
       "    }\n",
       "\n",
       "    .dataframe thead th {\n",
       "        text-align: right;\n",
       "    }\n",
       "</style>\n",
       "<table border=\"1\" class=\"dataframe\">\n",
       "  <thead>\n",
       "    <tr style=\"text-align: right;\">\n",
       "      <th></th>\n",
       "      <th>count</th>\n",
       "    </tr>\n",
       "    <tr>\n",
       "      <th>clarity</th>\n",
       "      <th></th>\n",
       "    </tr>\n",
       "  </thead>\n",
       "  <tbody>\n",
       "    <tr>\n",
       "      <th>SI1</th>\n",
       "      <td>13065</td>\n",
       "    </tr>\n",
       "    <tr>\n",
       "      <th>VS2</th>\n",
       "      <td>12258</td>\n",
       "    </tr>\n",
       "    <tr>\n",
       "      <th>SI2</th>\n",
       "      <td>9194</td>\n",
       "    </tr>\n",
       "    <tr>\n",
       "      <th>VS1</th>\n",
       "      <td>8171</td>\n",
       "    </tr>\n",
       "    <tr>\n",
       "      <th>VVS2</th>\n",
       "      <td>5066</td>\n",
       "    </tr>\n",
       "    <tr>\n",
       "      <th>VVS1</th>\n",
       "      <td>3655</td>\n",
       "    </tr>\n",
       "    <tr>\n",
       "      <th>IF</th>\n",
       "      <td>1790</td>\n",
       "    </tr>\n",
       "    <tr>\n",
       "      <th>I1</th>\n",
       "      <td>741</td>\n",
       "    </tr>\n",
       "  </tbody>\n",
       "</table>\n",
       "</div>"
      ],
      "text/plain": [
       "         count\n",
       "clarity       \n",
       "SI1      13065\n",
       "VS2      12258\n",
       "SI2       9194\n",
       "VS1       8171\n",
       "VVS2      5066\n",
       "VVS1      3655\n",
       "IF        1790\n",
       "I1         741"
      ]
     },
     "metadata": {},
     "output_type": "display_data"
    },
    {
     "data": {
      "image/png": "[encoded data removed]",
      "text/plain": [
       "<Figure size 640x480 with 1 Axes>"
      ]
     },
     "metadata": {},
     "output_type": "display_data"
    }
   ],
   "source": [
    "# count of daimonds based on their clarity\n",
    "display(pd.DataFrame(df['clarity'].value_counts()))\n",
    "\n",
    "sns.countplot(x = df['clarity'])\n",
    "plt.title('Number of diamonds based on clarity')\n",
    "plt.show()"
   ]
  },
  {
   "cell_type": "code",
   "execution_count": 12,
   "id": "aec44c79",
   "metadata": {
    "execution": {
     "iopub.execute_input": "2024-05-11T08:07:56.479303Z",
     "iopub.status.busy": "2024-05-11T08:07:56.478917Z",
     "iopub.status.idle": "2024-05-11T08:07:57.320032Z",
     "shell.execute_reply": "2024-05-11T08:07:57.318071Z"
    },
    "papermill": {
     "duration": 0.861019,
     "end_time": "2024-05-11T08:07:57.322983",
     "exception": false,
     "start_time": "2024-05-11T08:07:56.461964",
     "status": "completed"
    },
    "tags": []
   },
   "outputs": [
    {
     "data": {
      "image/png": "[encoded data removed]",
      "text/plain": [
       "<Figure size 640x480 with 1 Axes>"
      ]
     },
     "metadata": {},
     "output_type": "display_data"
    }
   ],
   "source": [
    "sns.barplot(x = df['clarity'], y = df['price'])\n",
    "plt.title('The average price of diamonds based on their clarity')\n",
    "plt.show()"
   ]
  },
  {
   "cell_type": "markdown",
   "id": "0edd0522",
   "metadata": {
    "papermill": {
     "duration": 0.0131,
     "end_time": "2024-05-11T08:07:57.349352",
     "exception": false,
     "start_time": "2024-05-11T08:07:57.336252",
     "status": "completed"
    },
    "tags": []
   },
   "source": [
    "The visualizations above shows that category SI1 have the highest number of diamonds in the dataset, and on average category SI2 have the most expensive diamonds."
   ]
  },
  {
   "cell_type": "code",
   "execution_count": 13,
   "id": "e4710356",
   "metadata": {
    "execution": {
     "iopub.execute_input": "2024-05-11T08:07:57.378143Z",
     "iopub.status.busy": "2024-05-11T08:07:57.377732Z",
     "iopub.status.idle": "2024-05-11T08:07:57.683949Z",
     "shell.execute_reply": "2024-05-11T08:07:57.682952Z"
    },
    "papermill": {
     "duration": 0.323471,
     "end_time": "2024-05-11T08:07:57.686736",
     "exception": false,
     "start_time": "2024-05-11T08:07:57.363265",
     "status": "completed"
    },
    "tags": []
   },
   "outputs": [
    {
     "data": {
      "text/html": [
       "<div>\n",
       "<style scoped>\n",
       "    .dataframe tbody tr th:only-of-type {\n",
       "        vertical-align: middle;\n",
       "    }\n",
       "\n",
       "    .dataframe tbody tr th {\n",
       "        vertical-align: top;\n",
       "    }\n",
       "\n",
       "    .dataframe thead th {\n",
       "        text-align: right;\n",
       "    }\n",
       "</style>\n",
       "<table border=\"1\" class=\"dataframe\">\n",
       "  <thead>\n",
       "    <tr style=\"text-align: right;\">\n",
       "      <th></th>\n",
       "      <th>count</th>\n",
       "    </tr>\n",
       "    <tr>\n",
       "      <th>clarity</th>\n",
       "      <th></th>\n",
       "    </tr>\n",
       "  </thead>\n",
       "  <tbody>\n",
       "    <tr>\n",
       "      <th>SI1</th>\n",
       "      <td>13065</td>\n",
       "    </tr>\n",
       "    <tr>\n",
       "      <th>VS2</th>\n",
       "      <td>12258</td>\n",
       "    </tr>\n",
       "    <tr>\n",
       "      <th>SI2</th>\n",
       "      <td>9194</td>\n",
       "    </tr>\n",
       "    <tr>\n",
       "      <th>VS1</th>\n",
       "      <td>8171</td>\n",
       "    </tr>\n",
       "    <tr>\n",
       "      <th>VVS2</th>\n",
       "      <td>5066</td>\n",
       "    </tr>\n",
       "    <tr>\n",
       "      <th>VVS1</th>\n",
       "      <td>3655</td>\n",
       "    </tr>\n",
       "    <tr>\n",
       "      <th>IF</th>\n",
       "      <td>1790</td>\n",
       "    </tr>\n",
       "    <tr>\n",
       "      <th>I1</th>\n",
       "      <td>741</td>\n",
       "    </tr>\n",
       "  </tbody>\n",
       "</table>\n",
       "</div>"
      ],
      "text/plain": [
       "         count\n",
       "clarity       \n",
       "SI1      13065\n",
       "VS2      12258\n",
       "SI2       9194\n",
       "VS1       8171\n",
       "VVS2      5066\n",
       "VVS1      3655\n",
       "IF        1790\n",
       "I1         741"
      ]
     },
     "metadata": {},
     "output_type": "display_data"
    },
    {
     "data": {
      "image/png": "[encoded data removed]",
      "text/plain": [
       "<Figure size 640x480 with 1 Axes>"
      ]
     },
     "metadata": {},
     "output_type": "display_data"
    }
   ],
   "source": [
    "display(pd.DataFrame(df['clarity'].value_counts()))\n",
    "\n",
    "sns.countplot(x = df['color'])\n",
    "plt.title('Number of diamonds based on color')\n",
    "plt.show()"
   ]
  },
  {
   "cell_type": "markdown",
   "id": "10d3a8b8",
   "metadata": {
    "papermill": {
     "duration": 0.013812,
     "end_time": "2024-05-11T08:07:57.714468",
     "exception": false,
     "start_time": "2024-05-11T08:07:57.700656",
     "status": "completed"
    },
    "tags": []
   },
   "source": [
    "The diamonds' colors are ranked from D (best) to J (Worst). The dataset have the highest number of diamonds that are ranked G. "
   ]
  },
  {
   "cell_type": "code",
   "execution_count": 14,
   "id": "7bbc3757",
   "metadata": {
    "execution": {
     "iopub.execute_input": "2024-05-11T08:07:57.746346Z",
     "iopub.status.busy": "2024-05-11T08:07:57.745925Z",
     "iopub.status.idle": "2024-05-11T08:07:58.234896Z",
     "shell.execute_reply": "2024-05-11T08:07:58.233964Z"
    },
    "papermill": {
     "duration": 0.508921,
     "end_time": "2024-05-11T08:07:58.237134",
     "exception": false,
     "start_time": "2024-05-11T08:07:57.728213",
     "status": "completed"
    },
    "tags": []
   },
   "outputs": [
    {
     "data": {
      "text/html": [
       "<div>\n",
       "<style scoped>\n",
       "    .dataframe tbody tr th:only-of-type {\n",
       "        vertical-align: middle;\n",
       "    }\n",
       "\n",
       "    .dataframe tbody tr th {\n",
       "        vertical-align: top;\n",
       "    }\n",
       "\n",
       "    .dataframe thead th {\n",
       "        text-align: right;\n",
       "    }\n",
       "</style>\n",
       "<table border=\"1\" class=\"dataframe\">\n",
       "  <thead>\n",
       "    <tr style=\"text-align: right;\">\n",
       "      <th></th>\n",
       "      <th></th>\n",
       "      <th>price</th>\n",
       "    </tr>\n",
       "    <tr>\n",
       "      <th>color</th>\n",
       "      <th>cut</th>\n",
       "      <th></th>\n",
       "    </tr>\n",
       "  </thead>\n",
       "  <tbody>\n",
       "    <tr>\n",
       "      <th rowspan=\"5\" valign=\"top\">D</th>\n",
       "      <th>Fair</th>\n",
       "      <td>163</td>\n",
       "    </tr>\n",
       "    <tr>\n",
       "      <th>Good</th>\n",
       "      <td>662</td>\n",
       "    </tr>\n",
       "    <tr>\n",
       "      <th>Ideal</th>\n",
       "      <td>2834</td>\n",
       "    </tr>\n",
       "    <tr>\n",
       "      <th>Premium</th>\n",
       "      <td>1603</td>\n",
       "    </tr>\n",
       "    <tr>\n",
       "      <th>Very Good</th>\n",
       "      <td>1513</td>\n",
       "    </tr>\n",
       "    <tr>\n",
       "      <th rowspan=\"5\" valign=\"top\">E</th>\n",
       "      <th>Fair</th>\n",
       "      <td>224</td>\n",
       "    </tr>\n",
       "    <tr>\n",
       "      <th>Good</th>\n",
       "      <td>933</td>\n",
       "    </tr>\n",
       "    <tr>\n",
       "      <th>Ideal</th>\n",
       "      <td>3903</td>\n",
       "    </tr>\n",
       "    <tr>\n",
       "      <th>Premium</th>\n",
       "      <td>2337</td>\n",
       "    </tr>\n",
       "    <tr>\n",
       "      <th>Very Good</th>\n",
       "      <td>2400</td>\n",
       "    </tr>\n",
       "    <tr>\n",
       "      <th rowspan=\"5\" valign=\"top\">F</th>\n",
       "      <th>Fair</th>\n",
       "      <td>312</td>\n",
       "    </tr>\n",
       "    <tr>\n",
       "      <th>Good</th>\n",
       "      <td>909</td>\n",
       "    </tr>\n",
       "    <tr>\n",
       "      <th>Ideal</th>\n",
       "      <td>3826</td>\n",
       "    </tr>\n",
       "    <tr>\n",
       "      <th>Premium</th>\n",
       "      <td>2331</td>\n",
       "    </tr>\n",
       "    <tr>\n",
       "      <th>Very Good</th>\n",
       "      <td>2164</td>\n",
       "    </tr>\n",
       "    <tr>\n",
       "      <th rowspan=\"5\" valign=\"top\">G</th>\n",
       "      <th>Fair</th>\n",
       "      <td>314</td>\n",
       "    </tr>\n",
       "    <tr>\n",
       "      <th>Good</th>\n",
       "      <td>871</td>\n",
       "    </tr>\n",
       "    <tr>\n",
       "      <th>Ideal</th>\n",
       "      <td>4884</td>\n",
       "    </tr>\n",
       "    <tr>\n",
       "      <th>Premium</th>\n",
       "      <td>2924</td>\n",
       "    </tr>\n",
       "    <tr>\n",
       "      <th>Very Good</th>\n",
       "      <td>2299</td>\n",
       "    </tr>\n",
       "    <tr>\n",
       "      <th rowspan=\"5\" valign=\"top\">H</th>\n",
       "      <th>Fair</th>\n",
       "      <td>303</td>\n",
       "    </tr>\n",
       "    <tr>\n",
       "      <th>Good</th>\n",
       "      <td>702</td>\n",
       "    </tr>\n",
       "    <tr>\n",
       "      <th>Ideal</th>\n",
       "      <td>3115</td>\n",
       "    </tr>\n",
       "    <tr>\n",
       "      <th>Premium</th>\n",
       "      <td>2360</td>\n",
       "    </tr>\n",
       "    <tr>\n",
       "      <th>Very Good</th>\n",
       "      <td>1824</td>\n",
       "    </tr>\n",
       "    <tr>\n",
       "      <th rowspan=\"5\" valign=\"top\">I</th>\n",
       "      <th>Fair</th>\n",
       "      <td>175</td>\n",
       "    </tr>\n",
       "    <tr>\n",
       "      <th>Good</th>\n",
       "      <td>522</td>\n",
       "    </tr>\n",
       "    <tr>\n",
       "      <th>Ideal</th>\n",
       "      <td>2093</td>\n",
       "    </tr>\n",
       "    <tr>\n",
       "      <th>Premium</th>\n",
       "      <td>1428</td>\n",
       "    </tr>\n",
       "    <tr>\n",
       "      <th>Very Good</th>\n",
       "      <td>1204</td>\n",
       "    </tr>\n",
       "    <tr>\n",
       "      <th rowspan=\"5\" valign=\"top\">J</th>\n",
       "      <th>Fair</th>\n",
       "      <td>119</td>\n",
       "    </tr>\n",
       "    <tr>\n",
       "      <th>Good</th>\n",
       "      <td>307</td>\n",
       "    </tr>\n",
       "    <tr>\n",
       "      <th>Ideal</th>\n",
       "      <td>896</td>\n",
       "    </tr>\n",
       "    <tr>\n",
       "      <th>Premium</th>\n",
       "      <td>808</td>\n",
       "    </tr>\n",
       "    <tr>\n",
       "      <th>Very Good</th>\n",
       "      <td>678</td>\n",
       "    </tr>\n",
       "  </tbody>\n",
       "</table>\n",
       "</div>"
      ],
      "text/plain": [
       "                 price\n",
       "color cut             \n",
       "D     Fair         163\n",
       "      Good         662\n",
       "      Ideal       2834\n",
       "      Premium     1603\n",
       "      Very Good   1513\n",
       "E     Fair         224\n",
       "      Good         933\n",
       "      Ideal       3903\n",
       "      Premium     2337\n",
       "      Very Good   2400\n",
       "F     Fair         312\n",
       "      Good         909\n",
       "      Ideal       3826\n",
       "      Premium     2331\n",
       "      Very Good   2164\n",
       "G     Fair         314\n",
       "      Good         871\n",
       "      Ideal       4884\n",
       "      Premium     2924\n",
       "      Very Good   2299\n",
       "H     Fair         303\n",
       "      Good         702\n",
       "      Ideal       3115\n",
       "      Premium     2360\n",
       "      Very Good   1824\n",
       "I     Fair         175\n",
       "      Good         522\n",
       "      Ideal       2093\n",
       "      Premium     1428\n",
       "      Very Good   1204\n",
       "J     Fair         119\n",
       "      Good         307\n",
       "      Ideal        896\n",
       "      Premium      808\n",
       "      Very Good    678"
      ]
     },
     "metadata": {},
     "output_type": "display_data"
    },
    {
     "data": {
      "image/png": "[encoded data removed]",
      "text/plain": [
       "<Figure size 640x480 with 1 Axes>"
      ]
     },
     "metadata": {},
     "output_type": "display_data"
    }
   ],
   "source": [
    "display(pd.DataFrame(df.groupby(['color', 'cut'])['price'].count()))\n",
    "\n",
    "sns.countplot(x = df['color'], hue = df['cut'])\n",
    "plt.title('Number of diamonds based on color and cut')\n",
    "plt.show()"
   ]
  },
  {
   "cell_type": "markdown",
   "id": "db332cd6",
   "metadata": {
    "papermill": {
     "duration": 0.015421,
     "end_time": "2024-05-11T08:07:58.267392",
     "exception": false,
     "start_time": "2024-05-11T08:07:58.251971",
     "status": "completed"
    },
    "tags": []
   },
   "source": [
    "From the visualization above, there seems to be a relationship between color and cut variable which might've played a role in diamonds with fair cut having the highest average price as I shown earlier. This is because diamonds with fair cut are higher in higher rank compared to lower rank."
   ]
  },
  {
   "cell_type": "code",
   "execution_count": 15,
   "id": "a1ab15d7",
   "metadata": {
    "execution": {
     "iopub.execute_input": "2024-05-11T08:07:58.298744Z",
     "iopub.status.busy": "2024-05-11T08:07:58.298253Z",
     "iopub.status.idle": "2024-05-11T08:07:59.248411Z",
     "shell.execute_reply": "2024-05-11T08:07:59.247112Z"
    },
    "papermill": {
     "duration": 0.96953,
     "end_time": "2024-05-11T08:07:59.251109",
     "exception": false,
     "start_time": "2024-05-11T08:07:58.281579",
     "status": "completed"
    },
    "tags": []
   },
   "outputs": [
    {
     "data": {
      "text/html": [
       "<div>\n",
       "<style scoped>\n",
       "    .dataframe tbody tr th:only-of-type {\n",
       "        vertical-align: middle;\n",
       "    }\n",
       "\n",
       "    .dataframe tbody tr th {\n",
       "        vertical-align: top;\n",
       "    }\n",
       "\n",
       "    .dataframe thead th {\n",
       "        text-align: right;\n",
       "    }\n",
       "</style>\n",
       "<table border=\"1\" class=\"dataframe\">\n",
       "  <thead>\n",
       "    <tr style=\"text-align: right;\">\n",
       "      <th></th>\n",
       "      <th></th>\n",
       "      <th>price</th>\n",
       "    </tr>\n",
       "    <tr>\n",
       "      <th>color</th>\n",
       "      <th>cut</th>\n",
       "      <th></th>\n",
       "    </tr>\n",
       "  </thead>\n",
       "  <tbody>\n",
       "    <tr>\n",
       "      <th rowspan=\"5\" valign=\"top\">D</th>\n",
       "      <th>Fair</th>\n",
       "      <td>4291.061350</td>\n",
       "    </tr>\n",
       "    <tr>\n",
       "      <th>Good</th>\n",
       "      <td>3405.382175</td>\n",
       "    </tr>\n",
       "    <tr>\n",
       "      <th>Ideal</th>\n",
       "      <td>2629.094566</td>\n",
       "    </tr>\n",
       "    <tr>\n",
       "      <th>Premium</th>\n",
       "      <td>3631.292576</td>\n",
       "    </tr>\n",
       "    <tr>\n",
       "      <th>Very Good</th>\n",
       "      <td>3470.467284</td>\n",
       "    </tr>\n",
       "    <tr>\n",
       "      <th rowspan=\"5\" valign=\"top\">E</th>\n",
       "      <th>Fair</th>\n",
       "      <td>3682.312500</td>\n",
       "    </tr>\n",
       "    <tr>\n",
       "      <th>Good</th>\n",
       "      <td>3423.644159</td>\n",
       "    </tr>\n",
       "    <tr>\n",
       "      <th>Ideal</th>\n",
       "      <td>2597.550090</td>\n",
       "    </tr>\n",
       "    <tr>\n",
       "      <th>Premium</th>\n",
       "      <td>3538.914420</td>\n",
       "    </tr>\n",
       "    <tr>\n",
       "      <th>Very Good</th>\n",
       "      <td>3214.652083</td>\n",
       "    </tr>\n",
       "    <tr>\n",
       "      <th rowspan=\"5\" valign=\"top\">F</th>\n",
       "      <th>Fair</th>\n",
       "      <td>3827.003205</td>\n",
       "    </tr>\n",
       "    <tr>\n",
       "      <th>Good</th>\n",
       "      <td>3495.750275</td>\n",
       "    </tr>\n",
       "    <tr>\n",
       "      <th>Ideal</th>\n",
       "      <td>3374.939362</td>\n",
       "    </tr>\n",
       "    <tr>\n",
       "      <th>Premium</th>\n",
       "      <td>4324.890176</td>\n",
       "    </tr>\n",
       "    <tr>\n",
       "      <th>Very Good</th>\n",
       "      <td>3778.820240</td>\n",
       "    </tr>\n",
       "    <tr>\n",
       "      <th rowspan=\"5\" valign=\"top\">G</th>\n",
       "      <th>Fair</th>\n",
       "      <td>4239.254777</td>\n",
       "    </tr>\n",
       "    <tr>\n",
       "      <th>Good</th>\n",
       "      <td>4123.482204</td>\n",
       "    </tr>\n",
       "    <tr>\n",
       "      <th>Ideal</th>\n",
       "      <td>3720.706388</td>\n",
       "    </tr>\n",
       "    <tr>\n",
       "      <th>Premium</th>\n",
       "      <td>4500.742134</td>\n",
       "    </tr>\n",
       "    <tr>\n",
       "      <th>Very Good</th>\n",
       "      <td>3872.753806</td>\n",
       "    </tr>\n",
       "    <tr>\n",
       "      <th rowspan=\"5\" valign=\"top\">H</th>\n",
       "      <th>Fair</th>\n",
       "      <td>5135.683168</td>\n",
       "    </tr>\n",
       "    <tr>\n",
       "      <th>Good</th>\n",
       "      <td>4276.254986</td>\n",
       "    </tr>\n",
       "    <tr>\n",
       "      <th>Ideal</th>\n",
       "      <td>3889.334831</td>\n",
       "    </tr>\n",
       "    <tr>\n",
       "      <th>Premium</th>\n",
       "      <td>5216.706780</td>\n",
       "    </tr>\n",
       "    <tr>\n",
       "      <th>Very Good</th>\n",
       "      <td>4535.390351</td>\n",
       "    </tr>\n",
       "    <tr>\n",
       "      <th rowspan=\"5\" valign=\"top\">I</th>\n",
       "      <th>Fair</th>\n",
       "      <td>4685.445714</td>\n",
       "    </tr>\n",
       "    <tr>\n",
       "      <th>Good</th>\n",
       "      <td>5078.532567</td>\n",
       "    </tr>\n",
       "    <tr>\n",
       "      <th>Ideal</th>\n",
       "      <td>4451.970377</td>\n",
       "    </tr>\n",
       "    <tr>\n",
       "      <th>Premium</th>\n",
       "      <td>5946.180672</td>\n",
       "    </tr>\n",
       "    <tr>\n",
       "      <th>Very Good</th>\n",
       "      <td>5255.879568</td>\n",
       "    </tr>\n",
       "    <tr>\n",
       "      <th rowspan=\"5\" valign=\"top\">J</th>\n",
       "      <th>Fair</th>\n",
       "      <td>4975.655462</td>\n",
       "    </tr>\n",
       "    <tr>\n",
       "      <th>Good</th>\n",
       "      <td>4574.172638</td>\n",
       "    </tr>\n",
       "    <tr>\n",
       "      <th>Ideal</th>\n",
       "      <td>4918.186384</td>\n",
       "    </tr>\n",
       "    <tr>\n",
       "      <th>Premium</th>\n",
       "      <td>6294.591584</td>\n",
       "    </tr>\n",
       "    <tr>\n",
       "      <th>Very Good</th>\n",
       "      <td>5103.513274</td>\n",
       "    </tr>\n",
       "  </tbody>\n",
       "</table>\n",
       "</div>"
      ],
      "text/plain": [
       "                       price\n",
       "color cut                   \n",
       "D     Fair       4291.061350\n",
       "      Good       3405.382175\n",
       "      Ideal      2629.094566\n",
       "      Premium    3631.292576\n",
       "      Very Good  3470.467284\n",
       "E     Fair       3682.312500\n",
       "      Good       3423.644159\n",
       "      Ideal      2597.550090\n",
       "      Premium    3538.914420\n",
       "      Very Good  3214.652083\n",
       "F     Fair       3827.003205\n",
       "      Good       3495.750275\n",
       "      Ideal      3374.939362\n",
       "      Premium    4324.890176\n",
       "      Very Good  3778.820240\n",
       "G     Fair       4239.254777\n",
       "      Good       4123.482204\n",
       "      Ideal      3720.706388\n",
       "      Premium    4500.742134\n",
       "      Very Good  3872.753806\n",
       "H     Fair       5135.683168\n",
       "      Good       4276.254986\n",
       "      Ideal      3889.334831\n",
       "      Premium    5216.706780\n",
       "      Very Good  4535.390351\n",
       "I     Fair       4685.445714\n",
       "      Good       5078.532567\n",
       "      Ideal      4451.970377\n",
       "      Premium    5946.180672\n",
       "      Very Good  5255.879568\n",
       "J     Fair       4975.655462\n",
       "      Good       4574.172638\n",
       "      Ideal      4918.186384\n",
       "      Premium    6294.591584\n",
       "      Very Good  5103.513274"
      ]
     },
     "metadata": {},
     "output_type": "display_data"
    },
    {
     "data": {
      "image/png": "[encoded data removed]",
      "text/plain": [
       "<Figure size 640x480 with 1 Axes>"
      ]
     },
     "metadata": {},
     "output_type": "display_data"
    }
   ],
   "source": [
    "display(pd.DataFrame(df.groupby(['color', 'cut'])['price'].mean()))\n",
    "\n",
    "sns.barplot(x = df['color'], y = df['price'])\n",
    "plt.title('The average price of diamonds based on their color')\n",
    "plt.show()"
   ]
  },
  {
   "cell_type": "markdown",
   "id": "b45c5a12",
   "metadata": {
    "papermill": {
     "duration": 0.018366,
     "end_time": "2024-05-11T08:07:59.286740",
     "exception": false,
     "start_time": "2024-05-11T08:07:59.268374",
     "status": "completed"
    },
    "tags": []
   },
   "source": [
    "On average, J costs more than the rest which is also unexpected. However, a closer look look at the table further suggests there is a relationship between the two variables, cut and color.\n",
    "\n",
    "To test if there's an interaction effect between the two variables I conducted a Two-Anova test"
   ]
  },
  {
   "cell_type": "code",
   "execution_count": 16,
   "id": "d84235f6",
   "metadata": {
    "execution": {
     "iopub.execute_input": "2024-05-11T08:07:59.392090Z",
     "iopub.status.busy": "2024-05-11T08:07:59.391714Z",
     "iopub.status.idle": "2024-05-11T08:07:59.999059Z",
     "shell.execute_reply": "2024-05-11T08:07:59.997767Z"
    },
    "papermill": {
     "duration": 0.631418,
     "end_time": "2024-05-11T08:08:00.003656",
     "exception": false,
     "start_time": "2024-05-11T08:07:59.372238",
     "status": "completed"
    },
    "tags": []
   },
   "outputs": [
    {
     "name": "stdout",
     "output_type": "stream",
     "text": [
      "                 sum_sq       df           F         PR(>F)\n",
      "color      2.550704e+10      6.0  279.370558   0.000000e+00\n",
      "cut        9.699679e+09      4.0  159.356253  7.880786e-136\n",
      "color:cut  1.653455e+09     24.0    4.527442   1.000780e-12\n",
      "Residual   8.202709e+11  53905.0         NaN            NaN\n"
     ]
    }
   ],
   "source": [
    "model = ols('price ~ color + cut + color:cut', data = df).fit()\n",
    "anova_table = sm.stats.anova_lm(model, typ = 2)\n",
    "print(anova_table)"
   ]
  },
  {
   "cell_type": "markdown",
   "id": "1b4850d3",
   "metadata": {
    "papermill": {
     "duration": 0.026342,
     "end_time": "2024-05-11T08:08:00.058742",
     "exception": false,
     "start_time": "2024-05-11T08:08:00.032400",
     "status": "completed"
    },
    "tags": []
   },
   "source": [
    "From the Anova table, a 5% significance value, there is a statistically significant interaction between the two variables; cut and color"
   ]
  },
  {
   "cell_type": "code",
   "execution_count": 17,
   "id": "7f19f7e0",
   "metadata": {
    "execution": {
     "iopub.execute_input": "2024-05-11T08:08:00.114805Z",
     "iopub.status.busy": "2024-05-11T08:08:00.114319Z",
     "iopub.status.idle": "2024-05-11T08:08:07.823011Z",
     "shell.execute_reply": "2024-05-11T08:08:07.822151Z"
    },
    "papermill": {
     "duration": 7.738115,
     "end_time": "2024-05-11T08:08:07.826107",
     "exception": false,
     "start_time": "2024-05-11T08:08:00.087992",
     "status": "completed"
    },
    "tags": []
   },
   "outputs": [
    {
     "name": "stderr",
     "output_type": "stream",
     "text": [
      "/opt/conda/lib/python3.10/site-packages/seaborn/_oldcore.py:1119: FutureWarning: use_inf_as_na option is deprecated and will be removed in a future version. Convert inf values to NaN before operating instead.\n",
      "  with pd.option_context('mode.use_inf_as_na', True):\n",
      "/opt/conda/lib/python3.10/site-packages/seaborn/_oldcore.py:1119: FutureWarning: use_inf_as_na option is deprecated and will be removed in a future version. Convert inf values to NaN before operating instead.\n",
      "  with pd.option_context('mode.use_inf_as_na', True):\n",
      "/opt/conda/lib/python3.10/site-packages/seaborn/_oldcore.py:1119: FutureWarning: use_inf_as_na option is deprecated and will be removed in a future version. Convert inf values to NaN before operating instead.\n",
      "  with pd.option_context('mode.use_inf_as_na', True):\n",
      "/opt/conda/lib/python3.10/site-packages/seaborn/_oldcore.py:1119: FutureWarning: use_inf_as_na option is deprecated and will be removed in a future version. Convert inf values to NaN before operating instead.\n",
      "  with pd.option_context('mode.use_inf_as_na', True):\n",
      "/opt/conda/lib/python3.10/site-packages/seaborn/_oldcore.py:1119: FutureWarning: use_inf_as_na option is deprecated and will be removed in a future version. Convert inf values to NaN before operating instead.\n",
      "  with pd.option_context('mode.use_inf_as_na', True):\n",
      "/opt/conda/lib/python3.10/site-packages/seaborn/_oldcore.py:1119: FutureWarning: use_inf_as_na option is deprecated and will be removed in a future version. Convert inf values to NaN before operating instead.\n",
      "  with pd.option_context('mode.use_inf_as_na', True):\n",
      "/opt/conda/lib/python3.10/site-packages/seaborn/_oldcore.py:1119: FutureWarning: use_inf_as_na option is deprecated and will be removed in a future version. Convert inf values to NaN before operating instead.\n",
      "  with pd.option_context('mode.use_inf_as_na', True):\n"
     ]
    },
    {
     "data": {
      "image/png": "[encoded data removed]",
      "text/plain": [
       "<Figure size 1500x500 with 7 Axes>"
      ]
     },
     "metadata": {},
     "output_type": "display_data"
    }
   ],
   "source": [
    "# Visualizing the distribution of the continuous features \n",
    "continuous_features = ['carat', 'depth', 'table', 'price', 'length', 'width', 'depth']\n",
    "\n",
    "fig, axes = plt.subplots(nrows = 1, ncols = len(continuous_features), figsize =(15, 5))\n",
    "\n",
    "for i, var in enumerate(continuous_features):\n",
    "    sns.histplot(df[var],color = 'blue', kde = True, ax = axes[i])\n",
    "    axes[i].set_title(f'Distribution of {var}')\n",
    "    axes[i].set_xlabel(var)\n",
    "    axes[i].set_ylabel('Frequency')\n",
    "\n",
    "#adjust layout \n",
    "plt.tight_layout()\n",
    "\n",
    "plt.show()"
   ]
  },
  {
   "cell_type": "markdown",
   "id": "52b5ffde",
   "metadata": {
    "papermill": {
     "duration": 0.018997,
     "end_time": "2024-05-11T08:08:07.862020",
     "exception": false,
     "start_time": "2024-05-11T08:08:07.843023",
     "status": "completed"
    },
    "tags": []
   },
   "source": [
    "The distribution of the continuous variables shows that most of the variables are skewed to the right apart from the variable 'length'"
   ]
  },
  {
   "cell_type": "markdown",
   "id": "89e537de",
   "metadata": {
    "papermill": {
     "duration": 0.018303,
     "end_time": "2024-05-11T08:08:07.900364",
     "exception": false,
     "start_time": "2024-05-11T08:08:07.882061",
     "status": "completed"
    },
    "tags": []
   },
   "source": [
    "## Feature Selection\n",
    "\n",
    "To select the important features for our model, we need to have find out the features that are strongly correlated to the target variable, price."
   ]
  },
  {
   "cell_type": "code",
   "execution_count": 18,
   "id": "1f14d494",
   "metadata": {
    "execution": {
     "iopub.execute_input": "2024-05-11T08:08:07.938438Z",
     "iopub.status.busy": "2024-05-11T08:08:07.938019Z",
     "iopub.status.idle": "2024-05-11T08:08:07.962268Z",
     "shell.execute_reply": "2024-05-11T08:08:07.960930Z"
    },
    "papermill": {
     "duration": 0.045581,
     "end_time": "2024-05-11T08:08:07.964952",
     "exception": false,
     "start_time": "2024-05-11T08:08:07.919371",
     "status": "completed"
    },
    "tags": []
   },
   "outputs": [
    {
     "data": {
      "text/html": [
       "<div>\n",
       "<style scoped>\n",
       "    .dataframe tbody tr th:only-of-type {\n",
       "        vertical-align: middle;\n",
       "    }\n",
       "\n",
       "    .dataframe tbody tr th {\n",
       "        vertical-align: top;\n",
       "    }\n",
       "\n",
       "    .dataframe thead th {\n",
       "        text-align: right;\n",
       "    }\n",
       "</style>\n",
       "<table border=\"1\" class=\"dataframe\">\n",
       "  <thead>\n",
       "    <tr style=\"text-align: right;\">\n",
       "      <th></th>\n",
       "      <th>carat</th>\n",
       "      <th>cut</th>\n",
       "      <th>color</th>\n",
       "      <th>clarity</th>\n",
       "      <th>total_depth</th>\n",
       "      <th>table</th>\n",
       "      <th>price</th>\n",
       "      <th>length</th>\n",
       "      <th>width</th>\n",
       "      <th>depth</th>\n",
       "      <th>area</th>\n",
       "    </tr>\n",
       "  </thead>\n",
       "  <tbody>\n",
       "    <tr>\n",
       "      <th>0</th>\n",
       "      <td>0.23</td>\n",
       "      <td>Ideal</td>\n",
       "      <td>E</td>\n",
       "      <td>SI2</td>\n",
       "      <td>61.5</td>\n",
       "      <td>55.0</td>\n",
       "      <td>326</td>\n",
       "      <td>3.95</td>\n",
       "      <td>3.98</td>\n",
       "      <td>2.43</td>\n",
       "      <td>15.7210</td>\n",
       "    </tr>\n",
       "    <tr>\n",
       "      <th>1</th>\n",
       "      <td>0.21</td>\n",
       "      <td>Premium</td>\n",
       "      <td>E</td>\n",
       "      <td>SI1</td>\n",
       "      <td>59.8</td>\n",
       "      <td>61.0</td>\n",
       "      <td>326</td>\n",
       "      <td>3.89</td>\n",
       "      <td>3.84</td>\n",
       "      <td>2.31</td>\n",
       "      <td>14.9376</td>\n",
       "    </tr>\n",
       "    <tr>\n",
       "      <th>2</th>\n",
       "      <td>0.23</td>\n",
       "      <td>Good</td>\n",
       "      <td>E</td>\n",
       "      <td>VS1</td>\n",
       "      <td>56.9</td>\n",
       "      <td>65.0</td>\n",
       "      <td>327</td>\n",
       "      <td>4.05</td>\n",
       "      <td>4.07</td>\n",
       "      <td>2.31</td>\n",
       "      <td>16.4835</td>\n",
       "    </tr>\n",
       "    <tr>\n",
       "      <th>3</th>\n",
       "      <td>0.29</td>\n",
       "      <td>Premium</td>\n",
       "      <td>I</td>\n",
       "      <td>VS2</td>\n",
       "      <td>62.4</td>\n",
       "      <td>58.0</td>\n",
       "      <td>334</td>\n",
       "      <td>4.20</td>\n",
       "      <td>4.23</td>\n",
       "      <td>2.63</td>\n",
       "      <td>17.7660</td>\n",
       "    </tr>\n",
       "    <tr>\n",
       "      <th>4</th>\n",
       "      <td>0.31</td>\n",
       "      <td>Good</td>\n",
       "      <td>J</td>\n",
       "      <td>SI2</td>\n",
       "      <td>63.3</td>\n",
       "      <td>58.0</td>\n",
       "      <td>335</td>\n",
       "      <td>4.34</td>\n",
       "      <td>4.35</td>\n",
       "      <td>2.75</td>\n",
       "      <td>18.8790</td>\n",
       "    </tr>\n",
       "    <tr>\n",
       "      <th>...</th>\n",
       "      <td>...</td>\n",
       "      <td>...</td>\n",
       "      <td>...</td>\n",
       "      <td>...</td>\n",
       "      <td>...</td>\n",
       "      <td>...</td>\n",
       "      <td>...</td>\n",
       "      <td>...</td>\n",
       "      <td>...</td>\n",
       "      <td>...</td>\n",
       "      <td>...</td>\n",
       "    </tr>\n",
       "    <tr>\n",
       "      <th>53935</th>\n",
       "      <td>0.72</td>\n",
       "      <td>Ideal</td>\n",
       "      <td>D</td>\n",
       "      <td>SI1</td>\n",
       "      <td>60.8</td>\n",
       "      <td>57.0</td>\n",
       "      <td>2757</td>\n",
       "      <td>5.75</td>\n",
       "      <td>5.76</td>\n",
       "      <td>3.50</td>\n",
       "      <td>33.1200</td>\n",
       "    </tr>\n",
       "    <tr>\n",
       "      <th>53936</th>\n",
       "      <td>0.72</td>\n",
       "      <td>Good</td>\n",
       "      <td>D</td>\n",
       "      <td>SI1</td>\n",
       "      <td>63.1</td>\n",
       "      <td>55.0</td>\n",
       "      <td>2757</td>\n",
       "      <td>5.69</td>\n",
       "      <td>5.75</td>\n",
       "      <td>3.61</td>\n",
       "      <td>32.7175</td>\n",
       "    </tr>\n",
       "    <tr>\n",
       "      <th>53937</th>\n",
       "      <td>0.70</td>\n",
       "      <td>Very Good</td>\n",
       "      <td>D</td>\n",
       "      <td>SI1</td>\n",
       "      <td>62.8</td>\n",
       "      <td>60.0</td>\n",
       "      <td>2757</td>\n",
       "      <td>5.66</td>\n",
       "      <td>5.68</td>\n",
       "      <td>3.56</td>\n",
       "      <td>32.1488</td>\n",
       "    </tr>\n",
       "    <tr>\n",
       "      <th>53938</th>\n",
       "      <td>0.86</td>\n",
       "      <td>Premium</td>\n",
       "      <td>H</td>\n",
       "      <td>SI2</td>\n",
       "      <td>61.0</td>\n",
       "      <td>58.0</td>\n",
       "      <td>2757</td>\n",
       "      <td>6.15</td>\n",
       "      <td>6.12</td>\n",
       "      <td>3.74</td>\n",
       "      <td>37.6380</td>\n",
       "    </tr>\n",
       "    <tr>\n",
       "      <th>53939</th>\n",
       "      <td>0.75</td>\n",
       "      <td>Ideal</td>\n",
       "      <td>D</td>\n",
       "      <td>SI2</td>\n",
       "      <td>62.2</td>\n",
       "      <td>55.0</td>\n",
       "      <td>2757</td>\n",
       "      <td>5.83</td>\n",
       "      <td>5.87</td>\n",
       "      <td>3.64</td>\n",
       "      <td>34.2221</td>\n",
       "    </tr>\n",
       "  </tbody>\n",
       "</table>\n",
       "<p>53940 rows × 11 columns</p>\n",
       "</div>"
      ],
      "text/plain": [
       "       carat        cut color clarity  total_depth  table  price  length  \\\n",
       "0       0.23      Ideal     E     SI2         61.5   55.0    326    3.95   \n",
       "1       0.21    Premium     E     SI1         59.8   61.0    326    3.89   \n",
       "2       0.23       Good     E     VS1         56.9   65.0    327    4.05   \n",
       "3       0.29    Premium     I     VS2         62.4   58.0    334    4.20   \n",
       "4       0.31       Good     J     SI2         63.3   58.0    335    4.34   \n",
       "...      ...        ...   ...     ...          ...    ...    ...     ...   \n",
       "53935   0.72      Ideal     D     SI1         60.8   57.0   2757    5.75   \n",
       "53936   0.72       Good     D     SI1         63.1   55.0   2757    5.69   \n",
       "53937   0.70  Very Good     D     SI1         62.8   60.0   2757    5.66   \n",
       "53938   0.86    Premium     H     SI2         61.0   58.0   2757    6.15   \n",
       "53939   0.75      Ideal     D     SI2         62.2   55.0   2757    5.83   \n",
       "\n",
       "       width  depth     area  \n",
       "0       3.98   2.43  15.7210  \n",
       "1       3.84   2.31  14.9376  \n",
       "2       4.07   2.31  16.4835  \n",
       "3       4.23   2.63  17.7660  \n",
       "4       4.35   2.75  18.8790  \n",
       "...      ...    ...      ...  \n",
       "53935   5.76   3.50  33.1200  \n",
       "53936   5.75   3.61  32.7175  \n",
       "53937   5.68   3.56  32.1488  \n",
       "53938   6.12   3.74  37.6380  \n",
       "53939   5.87   3.64  34.2221  \n",
       "\n",
       "[53940 rows x 11 columns]"
      ]
     },
     "execution_count": 18,
     "metadata": {},
     "output_type": "execute_result"
    }
   ],
   "source": [
    "df['area'] = df['length'] * df['width']\n",
    "df"
   ]
  },
  {
   "cell_type": "code",
   "execution_count": 19,
   "id": "73ec1187",
   "metadata": {
    "execution": {
     "iopub.execute_input": "2024-05-11T08:08:08.004260Z",
     "iopub.status.busy": "2024-05-11T08:08:08.003642Z",
     "iopub.status.idle": "2024-05-11T08:08:08.034140Z",
     "shell.execute_reply": "2024-05-11T08:08:08.033233Z"
    },
    "papermill": {
     "duration": 0.053447,
     "end_time": "2024-05-11T08:08:08.036376",
     "exception": false,
     "start_time": "2024-05-11T08:08:07.982929",
     "status": "completed"
    },
    "tags": []
   },
   "outputs": [
    {
     "data": {
      "text/html": [
       "<div>\n",
       "<style scoped>\n",
       "    .dataframe tbody tr th:only-of-type {\n",
       "        vertical-align: middle;\n",
       "    }\n",
       "\n",
       "    .dataframe tbody tr th {\n",
       "        vertical-align: top;\n",
       "    }\n",
       "\n",
       "    .dataframe thead th {\n",
       "        text-align: right;\n",
       "    }\n",
       "</style>\n",
       "<table border=\"1\" class=\"dataframe\">\n",
       "  <thead>\n",
       "    <tr style=\"text-align: right;\">\n",
       "      <th></th>\n",
       "      <th>carat</th>\n",
       "      <th>total_depth</th>\n",
       "      <th>table</th>\n",
       "      <th>price</th>\n",
       "      <th>length</th>\n",
       "      <th>width</th>\n",
       "      <th>depth</th>\n",
       "      <th>area</th>\n",
       "    </tr>\n",
       "  </thead>\n",
       "  <tbody>\n",
       "    <tr>\n",
       "      <th>carat</th>\n",
       "      <td>1.000000</td>\n",
       "      <td>0.028224</td>\n",
       "      <td>0.181618</td>\n",
       "      <td>0.921591</td>\n",
       "      <td>0.975094</td>\n",
       "      <td>0.951722</td>\n",
       "      <td>0.953387</td>\n",
       "      <td>0.981676</td>\n",
       "    </tr>\n",
       "    <tr>\n",
       "      <th>total_depth</th>\n",
       "      <td>0.028224</td>\n",
       "      <td>1.000000</td>\n",
       "      <td>-0.295779</td>\n",
       "      <td>-0.010647</td>\n",
       "      <td>-0.025289</td>\n",
       "      <td>-0.029341</td>\n",
       "      <td>0.094924</td>\n",
       "      <td>-0.030916</td>\n",
       "    </tr>\n",
       "    <tr>\n",
       "      <th>table</th>\n",
       "      <td>0.181618</td>\n",
       "      <td>-0.295779</td>\n",
       "      <td>1.000000</td>\n",
       "      <td>0.127134</td>\n",
       "      <td>0.195344</td>\n",
       "      <td>0.183760</td>\n",
       "      <td>0.150929</td>\n",
       "      <td>0.187498</td>\n",
       "    </tr>\n",
       "    <tr>\n",
       "      <th>price</th>\n",
       "      <td>0.921591</td>\n",
       "      <td>-0.010647</td>\n",
       "      <td>0.127134</td>\n",
       "      <td>1.000000</td>\n",
       "      <td>0.884435</td>\n",
       "      <td>0.865421</td>\n",
       "      <td>0.861249</td>\n",
       "      <td>0.901152</td>\n",
       "    </tr>\n",
       "    <tr>\n",
       "      <th>length</th>\n",
       "      <td>0.975094</td>\n",
       "      <td>-0.025289</td>\n",
       "      <td>0.195344</td>\n",
       "      <td>0.884435</td>\n",
       "      <td>1.000000</td>\n",
       "      <td>0.974701</td>\n",
       "      <td>0.970772</td>\n",
       "      <td>0.984662</td>\n",
       "    </tr>\n",
       "    <tr>\n",
       "      <th>width</th>\n",
       "      <td>0.951722</td>\n",
       "      <td>-0.029341</td>\n",
       "      <td>0.183760</td>\n",
       "      <td>0.865421</td>\n",
       "      <td>0.974701</td>\n",
       "      <td>1.000000</td>\n",
       "      <td>0.952006</td>\n",
       "      <td>0.990856</td>\n",
       "    </tr>\n",
       "    <tr>\n",
       "      <th>depth</th>\n",
       "      <td>0.953387</td>\n",
       "      <td>0.094924</td>\n",
       "      <td>0.150929</td>\n",
       "      <td>0.861249</td>\n",
       "      <td>0.970772</td>\n",
       "      <td>0.952006</td>\n",
       "      <td>1.000000</td>\n",
       "      <td>0.958460</td>\n",
       "    </tr>\n",
       "    <tr>\n",
       "      <th>area</th>\n",
       "      <td>0.981676</td>\n",
       "      <td>-0.030916</td>\n",
       "      <td>0.187498</td>\n",
       "      <td>0.901152</td>\n",
       "      <td>0.984662</td>\n",
       "      <td>0.990856</td>\n",
       "      <td>0.958460</td>\n",
       "      <td>1.000000</td>\n",
       "    </tr>\n",
       "  </tbody>\n",
       "</table>\n",
       "</div>"
      ],
      "text/plain": [
       "                carat  total_depth     table     price    length     width  \\\n",
       "carat        1.000000     0.028224  0.181618  0.921591  0.975094  0.951722   \n",
       "total_depth  0.028224     1.000000 -0.295779 -0.010647 -0.025289 -0.029341   \n",
       "table        0.181618    -0.295779  1.000000  0.127134  0.195344  0.183760   \n",
       "price        0.921591    -0.010647  0.127134  1.000000  0.884435  0.865421   \n",
       "length       0.975094    -0.025289  0.195344  0.884435  1.000000  0.974701   \n",
       "width        0.951722    -0.029341  0.183760  0.865421  0.974701  1.000000   \n",
       "depth        0.953387     0.094924  0.150929  0.861249  0.970772  0.952006   \n",
       "area         0.981676    -0.030916  0.187498  0.901152  0.984662  0.990856   \n",
       "\n",
       "                depth      area  \n",
       "carat        0.953387  0.981676  \n",
       "total_depth  0.094924 -0.030916  \n",
       "table        0.150929  0.187498  \n",
       "price        0.861249  0.901152  \n",
       "length       0.970772  0.984662  \n",
       "width        0.952006  0.990856  \n",
       "depth        1.000000  0.958460  \n",
       "area         0.958460  1.000000  "
      ]
     },
     "execution_count": 19,
     "metadata": {},
     "output_type": "execute_result"
    }
   ],
   "source": [
    "# Checking the correlation between the features \n",
    "correlation_matrix = df[['carat', 'total_depth', 'table', 'price', 'length', 'width', 'depth', 'area']].corr()\n",
    "correlation_matrix"
   ]
  },
  {
   "cell_type": "code",
   "execution_count": 20,
   "id": "2c47326c",
   "metadata": {
    "execution": {
     "iopub.execute_input": "2024-05-11T08:08:08.076365Z",
     "iopub.status.busy": "2024-05-11T08:08:08.075634Z",
     "iopub.status.idle": "2024-05-11T08:08:08.550333Z",
     "shell.execute_reply": "2024-05-11T08:08:08.549007Z"
    },
    "papermill": {
     "duration": 0.498351,
     "end_time": "2024-05-11T08:08:08.553356",
     "exception": false,
     "start_time": "2024-05-11T08:08:08.055005",
     "status": "completed"
    },
    "tags": []
   },
   "outputs": [
    {
     "data": {
      "image/png": "[encoded data removed]",
      "text/plain": [
       "<Figure size 640x480 with 2 Axes>"
      ]
     },
     "metadata": {},
     "output_type": "display_data"
    }
   ],
   "source": [
    "sns.heatmap(correlation_matrix, annot = True, cmap = 'coolwarm', fmt = '.2f', linewidth = 0.5)\n",
    "plt.title('Correlation heatmap')\n",
    "plt.show()"
   ]
  },
  {
   "cell_type": "markdown",
   "id": "265287da",
   "metadata": {
    "papermill": {
     "duration": 0.020422,
     "end_time": "2024-05-11T08:08:08.593940",
     "exception": false,
     "start_time": "2024-05-11T08:08:08.573518",
     "status": "completed"
    },
    "tags": []
   },
   "source": [
    "From the heatmap and correlation matrix above; carat, length, width, area, and depth are strongly correlated with price i.e they have a linear relationship. \n",
    "\n",
    "## The Prediction Model\n",
    "\n",
    "Since the target variable is a continuous variable, linear regression is the easy option "
   ]
  },
  {
   "cell_type": "code",
   "execution_count": 21,
   "id": "8e286345",
   "metadata": {
    "execution": {
     "iopub.execute_input": "2024-05-11T08:08:08.637971Z",
     "iopub.status.busy": "2024-05-11T08:08:08.637514Z",
     "iopub.status.idle": "2024-05-11T08:08:08.647904Z",
     "shell.execute_reply": "2024-05-11T08:08:08.646607Z"
    },
    "papermill": {
     "duration": 0.035497,
     "end_time": "2024-05-11T08:08:08.650397",
     "exception": false,
     "start_time": "2024-05-11T08:08:08.614900",
     "status": "completed"
    },
    "tags": []
   },
   "outputs": [
    {
     "data": {
      "text/plain": [
       "array([ 326.,  326.,  327., ..., 2757., 2757., 2757.])"
      ]
     },
     "execution_count": 21,
     "metadata": {},
     "output_type": "execute_result"
    }
   ],
   "source": [
    "Y = df['price'].to_numpy(dtype = float)\n",
    "Y"
   ]
  },
  {
   "cell_type": "code",
   "execution_count": 22,
   "id": "0c600171",
   "metadata": {
    "execution": {
     "iopub.execute_input": "2024-05-11T08:08:08.694160Z",
     "iopub.status.busy": "2024-05-11T08:08:08.693452Z",
     "iopub.status.idle": "2024-05-11T08:08:08.734218Z",
     "shell.execute_reply": "2024-05-11T08:08:08.732735Z"
    },
    "papermill": {
     "duration": 0.06423,
     "end_time": "2024-05-11T08:08:08.736600",
     "exception": false,
     "start_time": "2024-05-11T08:08:08.672370",
     "status": "completed"
    },
    "tags": []
   },
   "outputs": [
    {
     "data": {
      "text/plain": [
       "array([[ 0.23  ,  2.43  , 15.721 , ...,  0.    ,  0.    ,  0.    ],\n",
       "       [ 0.21  ,  2.31  , 14.9376, ...,  0.    ,  0.    ,  0.    ],\n",
       "       [ 0.23  ,  2.31  , 16.4835, ...,  0.    ,  0.    ,  0.    ],\n",
       "       ...,\n",
       "       [ 0.7   ,  3.56  , 32.1488, ...,  0.    ,  0.    ,  0.    ],\n",
       "       [ 0.86  ,  3.74  , 37.638 , ...,  0.    ,  0.    ,  0.    ],\n",
       "       [ 0.75  ,  3.64  , 34.2221, ...,  0.    ,  0.    ,  0.    ]])"
      ]
     },
     "execution_count": 22,
     "metadata": {},
     "output_type": "execute_result"
    }
   ],
   "source": [
    "X = df[['carat','depth', 'color', 'cut', 'clarity', 'area', 'length', 'width']]\n",
    "X = pd.get_dummies(X).to_numpy(dtype = float)\n",
    "X"
   ]
  },
  {
   "cell_type": "code",
   "execution_count": 23,
   "id": "64cf2b3a",
   "metadata": {
    "execution": {
     "iopub.execute_input": "2024-05-11T08:08:08.780350Z",
     "iopub.status.busy": "2024-05-11T08:08:08.779938Z",
     "iopub.status.idle": "2024-05-11T08:08:08.827479Z",
     "shell.execute_reply": "2024-05-11T08:08:08.826058Z"
    },
    "papermill": {
     "duration": 0.07351,
     "end_time": "2024-05-11T08:08:08.830218",
     "exception": false,
     "start_time": "2024-05-11T08:08:08.756708",
     "status": "completed"
    },
    "tags": []
   },
   "outputs": [],
   "source": [
    "X_train, X_test, Y_train, Y_test = train_test_split(X, Y, test_size = 0.3, random_state = 1)\n",
    "scaler = StandardScaler().fit(X_train)\n",
    "X_train = scaler.transform(X_train)\n",
    "X_test = scaler.transform(X_test)"
   ]
  },
  {
   "cell_type": "code",
   "execution_count": 24,
   "id": "3338aafe",
   "metadata": {
    "execution": {
     "iopub.execute_input": "2024-05-11T08:08:08.874142Z",
     "iopub.status.busy": "2024-05-11T08:08:08.873728Z",
     "iopub.status.idle": "2024-05-11T08:08:08.936826Z",
     "shell.execute_reply": "2024-05-11T08:08:08.935402Z"
    },
    "papermill": {
     "duration": 0.092011,
     "end_time": "2024-05-11T08:08:08.943412",
     "exception": false,
     "start_time": "2024-05-11T08:08:08.851401",
     "status": "completed"
    },
    "tags": []
   },
   "outputs": [
    {
     "name": "stdout",
     "output_type": "stream",
     "text": [
      "Trainning accuracy: 0.9203151606826854\n"
     ]
    }
   ],
   "source": [
    "#instantiate the model\n",
    "lr = LinearRegression()\n",
    "\n",
    "lr = lr.fit(X_train, Y_train)\n",
    "print('Trainning accuracy:', r2_score(Y_train, lr.predict(X_train)))"
   ]
  },
  {
   "cell_type": "markdown",
   "id": "8d97503a",
   "metadata": {
    "papermill": {
     "duration": 0.047807,
     "end_time": "2024-05-11T08:08:09.058859",
     "exception": false,
     "start_time": "2024-05-11T08:08:09.011052",
     "status": "completed"
    },
    "tags": []
   },
   "source": [
    "## Model Evaluation"
   ]
  },
  {
   "cell_type": "code",
   "execution_count": 25,
   "id": "4ab3ef21",
   "metadata": {
    "execution": {
     "iopub.execute_input": "2024-05-11T08:08:09.099809Z",
     "iopub.status.busy": "2024-05-11T08:08:09.099387Z",
     "iopub.status.idle": "2024-05-11T08:08:09.110978Z",
     "shell.execute_reply": "2024-05-11T08:08:09.109474Z"
    },
    "papermill": {
     "duration": 0.03769,
     "end_time": "2024-05-11T08:08:09.115337",
     "exception": false,
     "start_time": "2024-05-11T08:08:09.077647",
     "status": "completed"
    },
    "tags": []
   },
   "outputs": [
    {
     "name": "stdout",
     "output_type": "stream",
     "text": [
      "Coefficient of determination : 0.9236107794917834\n",
      "Root mean squared error: 1082.4955177467696\n"
     ]
    }
   ],
   "source": [
    "y_pred = lr.predict(X_test)\n",
    "print('Coefficient of determination :', r2_score(Y_test, y_pred))\n",
    "print('Root mean squared error:', np.sqrt(mean_squared_error(Y_test, y_pred)))"
   ]
  },
  {
   "cell_type": "markdown",
   "id": "2b14ba26",
   "metadata": {
    "papermill": {
     "duration": 0.032719,
     "end_time": "2024-05-11T08:08:09.181787",
     "exception": false,
     "start_time": "2024-05-11T08:08:09.149068",
     "status": "completed"
    },
    "tags": []
   },
   "source": [
    "The model was able to explain 92% of variabilty in the target variable. The model did not just perform well on the train dataset but it also performed well on test data.\n",
    "\n",
    "## Ridge Regression\n",
    "\n",
    "To see if building a more complex model can model the relationship between the variables better, I built a Ridge regression model."
   ]
  },
  {
   "cell_type": "code",
   "execution_count": 26,
   "id": "87764161",
   "metadata": {
    "execution": {
     "iopub.execute_input": "2024-05-11T08:08:09.241427Z",
     "iopub.status.busy": "2024-05-11T08:08:09.241011Z",
     "iopub.status.idle": "2024-05-11T08:08:09.663603Z",
     "shell.execute_reply": "2024-05-11T08:08:09.662425Z"
    },
    "papermill": {
     "duration": 0.452414,
     "end_time": "2024-05-11T08:08:09.667216",
     "exception": false,
     "start_time": "2024-05-11T08:08:09.214802",
     "status": "completed"
    },
    "tags": []
   },
   "outputs": [
    {
     "name": "stdout",
     "output_type": "stream",
     "text": [
      "The best Alpha value: {'alpha': 10.0}\n"
     ]
    }
   ],
   "source": [
    "ridge = Ridge()\n",
    "parameters = {'alpha': [0.01, 0.1, 1.0, 10.0]}\n",
    "grid_search = GridSearchCV(estimator = ridge, param_grid = parameters, cv = 5)\n",
    "grid_search.fit(X_train, Y_train)\n",
    "print('The best Alpha value:', grid_search.best_params_)"
   ]
  },
  {
   "cell_type": "code",
   "execution_count": 27,
   "id": "36743726",
   "metadata": {
    "execution": {
     "iopub.execute_input": "2024-05-11T08:08:09.738519Z",
     "iopub.status.busy": "2024-05-11T08:08:09.737779Z",
     "iopub.status.idle": "2024-05-11T08:08:09.775202Z",
     "shell.execute_reply": "2024-05-11T08:08:09.773976Z"
    },
    "papermill": {
     "duration": 0.083454,
     "end_time": "2024-05-11T08:08:09.784589",
     "exception": false,
     "start_time": "2024-05-11T08:08:09.701135",
     "status": "completed"
    },
    "tags": []
   },
   "outputs": [
    {
     "name": "stdout",
     "output_type": "stream",
     "text": [
      "Coefficient of determination : 0.9234338226812118\n",
      "Root mean squared error: 1083.7486012728675\n"
     ]
    }
   ],
   "source": [
    "ridge = Ridge(alpha = 10)\n",
    "ridge.fit(X_train, Y_train)\n",
    "print('Coefficient of determination :', r2_score(Y_test, ridge.predict(X_test)))\n",
    "print('Root mean squared error:', np.sqrt(mean_squared_error(Y_test, ridge.predict(X_test))))"
   ]
  },
  {
   "cell_type": "markdown",
   "id": "e8235c19",
   "metadata": {
    "papermill": {
     "duration": 0.034791,
     "end_time": "2024-05-11T08:08:09.855281",
     "exception": false,
     "start_time": "2024-05-11T08:08:09.820490",
     "status": "completed"
    },
    "tags": []
   },
   "source": [
    "Even after regularization, there was no significant improvement in the performance of the model. "
   ]
  },
  {
   "cell_type": "code",
   "execution_count": null,
   "id": "9dad5fbb",
   "metadata": {
    "papermill": {
     "duration": 0.019664,
     "end_time": "2024-05-11T08:08:09.909634",
     "exception": false,
     "start_time": "2024-05-11T08:08:09.889970",
     "status": "completed"
    },
    "tags": []
   },
   "outputs": [],
   "source": []
  }
 ],
 "metadata": {
  "kaggle": {
   "accelerator": "none",
   "dataSources": [
    {
     "datasetId": 4781139,
     "sourceId": 8097265,
     "sourceType": "datasetVersion"
    }
   ],
   "dockerImageVersionId": 30684,
   "isGpuEnabled": false,
   "isInternetEnabled": true,
   "language": "python",
   "sourceType": "notebook"
  },
  "kernelspec": {
   "display_name": "Python 3",
   "language": "python",
   "name": "python3"
  },
  "language_info": {
   "codemirror_mode": {
    "name": "ipython",
    "version": 3
   },
   "file_extension": ".py",
   "mimetype": "text/x-python",
   "name": "python",
   "nbconvert_exporter": "python",
   "pygments_lexer": "ipython3",
   "version": "3.10.13"
  },
  "papermill": {
   "default_parameters": {},
   "duration": 25.914602,
   "end_time": "2024-05-11T08:08:10.950892",
   "environment_variables": {},
   "exception": null,
   "input_path": "__notebook__.ipynb",
   "output_path": "__notebook__.ipynb",
   "parameters": {},
   "start_time": "2024-05-11T08:07:45.036290",
   "version": "2.5.0"
  }
 },
 "nbformat": 4,
 "nbformat_minor": 5
}
